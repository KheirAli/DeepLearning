{
  "nbformat": 4,
  "nbformat_minor": 0,
  "metadata": {
    "colab": {
      "provenance": []
    },
    "kernelspec": {
      "name": "python3",
      "display_name": "Python 3"
    },
    "language_info": {
      "name": "python"
    },
    "gpuClass": "standard"
  },
  "cells": [
    {
      "cell_type": "markdown",
      "source": [
        "**Alireza Kheirandish**\n",
        "97101604"
      ],
      "metadata": {
        "id": "x9u3wzFhMG7J"
      }
    },
    {
      "cell_type": "code",
      "execution_count": 1,
      "metadata": {
        "id": "JqBk3FMbRBdn"
      },
      "outputs": [],
      "source": [
        "import tensorflow as tf\n",
        "import numpy as np\n",
        "import os\n",
        "from tensorflow import keras\n",
        "from keras.models import Model, Sequential\n",
        "from keras.layers import Input, LSTM, Dense, Embedding, GRU, TimeDistributed"
      ]
    },
    {
      "cell_type": "code",
      "source": [
        "def preprocessing(address):\n",
        "    text = open(address, 'rb').read().decode(encoding='utf-8')\n",
        "    text = text[36:]\n",
        "    return text"
      ],
      "metadata": {
        "id": "G1Upku0cTNHM"
      },
      "execution_count": 2,
      "outputs": []
    },
    {
      "cell_type": "markdown",
      "source": [
        "**Important**:\n",
        "\n",
        "Upload ferdousi.text file"
      ],
      "metadata": {
        "id": "dyHUa-f-t7Ny"
      }
    },
    {
      "cell_type": "code",
      "source": [
        "text = preprocessing('ferdousi.txt')\n",
        "\n",
        "print(f'Length of text: {len(text)} characters')\n",
        "vocab = sorted(set(text))\n",
        "\n",
        "print(f'{len(vocab)} unique characters')\n",
        "\n"
      ],
      "metadata": {
        "colab": {
          "base_uri": "https://localhost:8080/"
        },
        "id": "HUNAkyVKRFGT",
        "outputId": "a2b99f9f-3a34-42d5-9b36-8a1138c3199b"
      },
      "execution_count": 5,
      "outputs": [
        {
          "output_type": "stream",
          "name": "stdout",
          "text": [
            "Length of text: 2554719 characters\n",
            "46 unique characters\n"
          ]
        }
      ]
    },
    {
      "cell_type": "code",
      "source": [
        "def beyt(list_half_beyt):\n",
        "  m = list_half_beyt[0::2]\n",
        "  n = list_half_beyt[1::2]\n",
        "  temp = list()\n",
        "  [temp.append(' '.join([i,j])) for i,j in zip(m,n)]\n",
        "  return temp"
      ],
      "metadata": {
        "id": "sBBmr3nxkW7-"
      },
      "execution_count": 6,
      "outputs": []
    },
    {
      "cell_type": "code",
      "source": [
        "type(text)\n",
        "beyt_ = beyt(text.split('\\n'))\n",
        "beyt_[0]\n",
        "# [print(len(i)) for i in t[:5]]"
      ],
      "metadata": {
        "colab": {
          "base_uri": "https://localhost:8080/",
          "height": 35
        },
        "id": "QryYgwwpSrlm",
        "outputId": "34dd0922-9d22-4e44-f005-17c6b9942ea4"
      },
      "execution_count": 7,
      "outputs": [
        {
          "output_type": "execute_result",
          "data": {
            "text/plain": [
              "'به نام خداوند جان و خرد کزین برتر اندیشه برنگذرد'"
            ],
            "application/vnd.google.colaboratory.intrinsic+json": {
              "type": "string"
            }
          },
          "metadata": {},
          "execution_count": 7
        }
      ]
    },
    {
      "cell_type": "code",
      "source": [
        "k = [len(i) for i in beyt_]\n",
        "max_len = max(k)\n",
        "print(max_len)\n"
      ],
      "metadata": {
        "colab": {
          "base_uri": "https://localhost:8080/"
        },
        "id": "P8gIKBphTyGN",
        "outputId": "d3af6964-5ad4-4de3-8954-9a869495f6fe"
      },
      "execution_count": 8,
      "outputs": [
        {
          "output_type": "stream",
          "name": "stdout",
          "text": [
            "64\n"
          ]
        }
      ]
    },
    {
      "cell_type": "code",
      "source": [
        "k1 = [\"\\t\" + i for i in beyt_]\n",
        "temp = [len(i) for i in k1]\n",
        "# print(max(k))\n",
        "max_len = max(temp)\n",
        "print(max_len)\n",
        "k = [i.ljust(max_len, ' ') for i in beyt_]\n",
        "k1 = [i.ljust(max_len, ' ') for i in k1]\n",
        "input_text = \"\\n\".join(k[:-1])\n",
        "input_text_dec = \"\\n\".join(k1[1:])\n",
        "output_text = \"\\n\".join(k[1:])\n",
        "vocab = sorted(set(input_text_dec))\n",
        "char_map_index = {char: idx for idx,char in enumerate(vocab)}\n",
        "index_map_char = {idx: char for idx,char in enumerate(vocab)}\n",
        "k1[:2]\n"
      ],
      "metadata": {
        "colab": {
          "base_uri": "https://localhost:8080/"
        },
        "id": "d0gqbenhr5Hy",
        "outputId": "3b9ad0cd-d5c7-4de4-8e4c-748f8c0ec2c0"
      },
      "execution_count": 9,
      "outputs": [
        {
          "output_type": "stream",
          "name": "stdout",
          "text": [
            "65\n"
          ]
        },
        {
          "output_type": "execute_result",
          "data": {
            "text/plain": [
              "['\\tبه نام خداوند جان و خرد کزین برتر اندیشه برنگذرد                ',\n",
              " '\\tخداوند نام و خداوند جای خداوند روزی ده رهنمای                   ']"
            ]
          },
          "metadata": {},
          "execution_count": 9
        }
      ]
    },
    {
      "cell_type": "code",
      "source": [
        "output_text[:20]"
      ],
      "metadata": {
        "colab": {
          "base_uri": "https://localhost:8080/",
          "height": 35
        },
        "id": "HoDZR1idQrkI",
        "outputId": "34de479c-dab3-46ee-dd9b-b222e3617a7c"
      },
      "execution_count": 10,
      "outputs": [
        {
          "output_type": "execute_result",
          "data": {
            "text/plain": [
              "'خداوند نام و خداوند '"
            ],
            "application/vnd.google.colaboratory.intrinsic+json": {
              "type": "string"
            }
          },
          "metadata": {},
          "execution_count": 10
        }
      ]
    },
    {
      "cell_type": "code",
      "source": [
        "maped_input_text_1 = [[char_map_index[i] for i in j] for j in input_text.split('\\n')]\n",
        "maped_input_text_dec_1 = [[char_map_index[i]for i in j] for j in input_text_dec.split('\\n')]\n",
        "maped_output_text_1 = [[char_map_index[i] for i in j] for j in output_text.split('\\n')]"
      ],
      "metadata": {
        "id": "pXssBpRS5TvQ"
      },
      "execution_count": 11,
      "outputs": []
    },
    {
      "cell_type": "code",
      "source": [
        "maped_input_text = np.asarray(maped_input_text_1,dtype=np.int32)\n",
        "maped_input_text_dec = np.asarray(maped_input_text_dec_1,dtype=np.int32)\n",
        "maped_output_text = np.asarray(maped_output_text_1,dtype=np.int32)"
      ],
      "metadata": {
        "id": "N_wDwjAA5YWl"
      },
      "execution_count": 12,
      "outputs": []
    },
    {
      "cell_type": "code",
      "source": [
        "# maped_input_text[:10]"
      ],
      "metadata": {
        "id": "dumu_He-4hPI"
      },
      "execution_count": 13,
      "outputs": []
    },
    {
      "cell_type": "code",
      "source": [
        "len(maped_input_text),len(maped_input_text_dec),len(maped_output_text)"
      ],
      "metadata": {
        "colab": {
          "base_uri": "https://localhost:8080/"
        },
        "id": "2G1EsfzIzGF5",
        "outputId": "d1b3214b-3d64-4c78-c568-6837771a5ae3"
      },
      "execution_count": 14,
      "outputs": [
        {
          "output_type": "execute_result",
          "data": {
            "text/plain": [
              "(49607, 49607, 49607)"
            ]
          },
          "metadata": {},
          "execution_count": 14
        }
      ]
    },
    {
      "cell_type": "code",
      "source": [
        "embedding_dim = len(vocab)\n",
        "RNN_units = max_len\n",
        "BATCH_SIZE = 64\n"
      ],
      "metadata": {
        "id": "HE-X93LB7fGZ"
      },
      "execution_count": 15,
      "outputs": []
    },
    {
      "cell_type": "code",
      "source": [
        "def main_model(input_length=max_len,\n",
        "                         vocab_size=len(vocab), \n",
        "                         rnn_units=256,\n",
        "                         embedding_dim=256,\n",
        "                         rnn_type=\"LSTM\"):\n",
        "\n",
        "    enc_inputs = Input(shape=(input_length,))\n",
        "    embedder = Embedding(vocab_size, embedding_dim)\n",
        "    enc_input_embed = embedder(enc_inputs)\n",
        "\n",
        "    if rnn_type == \"LSTM\":\n",
        "        enc_rnn_layer = LSTM(rnn_units, return_sequences=True, return_state=True)\n",
        "        enc_outputs, enc_h, enc_c = enc_rnn_layer(enc_input_embed)\n",
        "        states = [enc_h, enc_c]\n",
        "    else:\n",
        "        enc_rnn_layer = GRU(rnn_units, return_sequences=False, return_state=True)\n",
        "        _, states = enc_rnn_layer(enc_input_embed)\n",
        "\n",
        "    dec_inputs = Input(shape=(input_length,))\n",
        "    embedder1 = Embedding(vocab_size, embedding_dim)\n",
        "    dec_input_embed = embedder1(dec_inputs)\n",
        "\n",
        "    if rnn_type == \"LSTM\":\n",
        "        dec_rnn_layer = LSTM(rnn_units, return_sequences=True, return_state=True)\n",
        "        dec_outputs, _, _ = dec_rnn_layer(dec_input_embed, initial_state= states)\n",
        "    else:\n",
        "        dec_rnn_layer = GRU(rnn_units, return_sequences=True, return_state=True)\n",
        "        dec_outputs, _ = dec_rnn_layer(dec_input_embed, initial_state= states)\n",
        "    \n",
        "    dec_dense = Dense(vocab_size, activation=\"softmax\")\n",
        "    dec_output = dec_dense(dec_outputs)\n",
        "\n",
        "    My_model = Model([enc_inputs, dec_inputs], dec_output)\n",
        "\n",
        "    return My_model    "
      ],
      "metadata": {
        "id": "IojFnQZC5A3y"
      },
      "execution_count": 16,
      "outputs": []
    },
    {
      "cell_type": "markdown",
      "source": [
        "**LSTM:**"
      ],
      "metadata": {
        "id": "Q6W4ZYAw4fUb"
      }
    },
    {
      "cell_type": "code",
      "source": [
        "model_lstm = main_model(rnn_units=RNN_units,\n",
        "                                  embedding_dim=embedding_dim,\n",
        "                                  rnn_type=\"LSTM\")"
      ],
      "metadata": {
        "id": "QResb5Mz8OS3"
      },
      "execution_count": 18,
      "outputs": []
    },
    {
      "cell_type": "code",
      "source": [
        "model_lstm.summary()"
      ],
      "metadata": {
        "colab": {
          "base_uri": "https://localhost:8080/"
        },
        "id": "qtftoVYLbj9x",
        "outputId": "2130b86e-c539-4448-f68a-0d14ed60f0c0"
      },
      "execution_count": 19,
      "outputs": [
        {
          "output_type": "stream",
          "name": "stdout",
          "text": [
            "Model: \"model_1\"\n",
            "__________________________________________________________________________________________________\n",
            " Layer (type)                   Output Shape         Param #     Connected to                     \n",
            "==================================================================================================\n",
            " input_3 (InputLayer)           [(None, 65)]         0           []                               \n",
            "                                                                                                  \n",
            " input_4 (InputLayer)           [(None, 65)]         0           []                               \n",
            "                                                                                                  \n",
            " embedding_2 (Embedding)        (None, 65, 47)       2209        ['input_3[0][0]']                \n",
            "                                                                                                  \n",
            " embedding_3 (Embedding)        (None, 65, 47)       2209        ['input_4[0][0]']                \n",
            "                                                                                                  \n",
            " lstm_2 (LSTM)                  [(None, 65, 65),     29380       ['embedding_2[0][0]']            \n",
            "                                 (None, 65),                                                      \n",
            "                                 (None, 65)]                                                      \n",
            "                                                                                                  \n",
            " lstm_3 (LSTM)                  [(None, 65, 65),     29380       ['embedding_3[0][0]',            \n",
            "                                 (None, 65),                      'lstm_2[0][1]',                 \n",
            "                                 (None, 65)]                      'lstm_2[0][2]']                 \n",
            "                                                                                                  \n",
            " dense_1 (Dense)                (None, 65, 47)       3102        ['lstm_3[0][0]']                 \n",
            "                                                                                                  \n",
            "==================================================================================================\n",
            "Total params: 66,280\n",
            "Trainable params: 66,280\n",
            "Non-trainable params: 0\n",
            "__________________________________________________________________________________________________\n"
          ]
        }
      ]
    },
    {
      "cell_type": "code",
      "source": [
        "model_lstm.layers[1].output[0]"
      ],
      "metadata": {
        "colab": {
          "base_uri": "https://localhost:8080/"
        },
        "id": "phK-MSlEpy7H",
        "outputId": "8a9b7f29-cc98-49bc-9d8e-545a17b2e15b"
      },
      "execution_count": 20,
      "outputs": [
        {
          "output_type": "execute_result",
          "data": {
            "text/plain": [
              "<KerasTensor: shape=(65,) dtype=float32 (created by layer 'tf.__operators__.getitem')>"
            ]
          },
          "metadata": {},
          "execution_count": 20
        }
      ]
    },
    {
      "cell_type": "code",
      "source": [
        "checkpoint_dir = './training_checkpoints'\n",
        "# Name of the checkpoint files\n",
        "checkpoint_prefix = os.path.join(checkpoint_dir, \"ckpt_{epoch}\")\n",
        "\n",
        "checkpoint_callback = tf.keras.callbacks.ModelCheckpoint(\n",
        "    filepath=checkpoint_prefix,\\\n",
        "    save_weights_only=True)"
      ],
      "metadata": {
        "id": "OL0h0DeyiAP2"
      },
      "execution_count": 21,
      "outputs": []
    },
    {
      "cell_type": "code",
      "source": [
        "\n",
        "EPOCH = 4\n",
        "model_lstm.compile(optimizer=\"adam\", loss=\"sparse_categorical_crossentropy\", metrics=[\"accuracy\"])\n",
        "history = model_lstm.fit(\n",
        "    [maped_input_text, maped_input_text_dec],\n",
        "    maped_output_text,\n",
        "    batch_size=BATCH_SIZE,\n",
        "    epochs=EPOCH,\n",
        "    validation_split=0.2,\n",
        "    callbacks=[checkpoint_callback],\n",
        ")"
      ],
      "metadata": {
        "colab": {
          "base_uri": "https://localhost:8080/"
        },
        "id": "9DY8dxtM8kG7",
        "outputId": "46e2981c-0113-41dc-f0ee-6eda9d1e245a"
      },
      "execution_count": 22,
      "outputs": [
        {
          "output_type": "stream",
          "name": "stdout",
          "text": [
            "Epoch 1/4\n",
            "621/621 [==============================] - 85s 129ms/step - loss: 2.1055 - accuracy: 0.4305 - val_loss: 1.8386 - val_accuracy: 0.4744\n",
            "Epoch 2/4\n",
            "621/621 [==============================] - 82s 132ms/step - loss: 1.7505 - accuracy: 0.4948 - val_loss: 1.6863 - val_accuracy: 0.5157\n",
            "Epoch 3/4\n",
            "621/621 [==============================] - 79s 127ms/step - loss: 1.6289 - accuracy: 0.5305 - val_loss: 1.6082 - val_accuracy: 0.5374\n",
            "Epoch 4/4\n",
            "621/621 [==============================] - 79s 128ms/step - loss: 1.5591 - accuracy: 0.5480 - val_loss: 1.5516 - val_accuracy: 0.5517\n"
          ]
        }
      ]
    },
    {
      "cell_type": "code",
      "source": [
        "choosen_beyt = 4\n",
        "test_input_enc = np.expand_dims(maped_input_text[choosen_beyt], axis = 0)\n",
        "test_input_dec = np.expand_dims(maped_input_text_dec[choosen_beyt], axis = 0)\n",
        "test = model_lstm([test_input_enc, test_input_dec]).numpy().argmax(axis = 2)\n",
        "test_print = \"\"\n",
        "for i in test[0]:\n",
        "    test_print += index_map_char[i]\n",
        "test_print"
      ],
      "metadata": {
        "colab": {
          "base_uri": "https://localhost:8080/",
          "height": 35
        },
        "id": "PluXmctN9R9R",
        "outputId": "5ce1d595-20ff-42c6-9173-3d189903d47c"
      },
      "execution_count": 23,
      "outputs": [
        {
          "output_type": "execute_result",
          "data": {
            "text/plain": [
              "'بهامد بر  باادازدرن  با  به بز بر ا بز بامدب بی رنی اه           '"
            ],
            "application/vnd.google.colaboratory.intrinsic+json": {
              "type": "string"
            }
          },
          "metadata": {},
          "execution_count": 23
        }
      ]
    },
    {
      "cell_type": "code",
      "source": [
        "model_lstm([test_input_enc, test_input_dec]).numpy().argmax(axis = 2).shape"
      ],
      "metadata": {
        "colab": {
          "base_uri": "https://localhost:8080/"
        },
        "id": "oFmIEe35jEzP",
        "outputId": "cfdb6dba-697c-4ebd-c293-24c6733c14da"
      },
      "execution_count": 24,
      "outputs": [
        {
          "output_type": "execute_result",
          "data": {
            "text/plain": [
              "(1, 65)"
            ]
          },
          "metadata": {},
          "execution_count": 24
        }
      ]
    },
    {
      "cell_type": "markdown",
      "source": [
        "**GRU:**"
      ],
      "metadata": {
        "id": "ZTpCOhHu7siy"
      }
    },
    {
      "cell_type": "code",
      "source": [
        "model_gru = main_model(rnn_units=RNN_units,\n",
        "                                  embedding_dim=embedding_dim,\n",
        "                                  rnn_type=\"GRU\")\n",
        "\n",
        "checkpoint_dir = './training_checkpoints'\n",
        "# Name of the checkpoint files\n",
        "checkpoint_prefix = os.path.join(checkpoint_dir, \"ckpt_{epoch}\")\n",
        "\n",
        "checkpoint_callback = tf.keras.callbacks.ModelCheckpoint(\n",
        "    filepath=checkpoint_prefix,\\\n",
        "    save_weights_only=True)\n",
        "EPOCH = 4\n",
        "model_gru.compile(optimizer=\"adam\", loss=\"sparse_categorical_crossentropy\", metrics=[\"accuracy\"])\n",
        "history = model_gru.fit(\n",
        "    [maped_input_text, maped_input_text_dec],\n",
        "    maped_output_text,\n",
        "    batch_size=BATCH_SIZE,\n",
        "    epochs=EPOCH,\n",
        "    validation_split=0.2,\n",
        "    callbacks=[checkpoint_callback],\n",
        ")"
      ],
      "metadata": {
        "colab": {
          "base_uri": "https://localhost:8080/"
        },
        "id": "wsEIfLJE5-fv",
        "outputId": "bd173bf3-b716-46f0-fc36-63f8086f4905"
      },
      "execution_count": 25,
      "outputs": [
        {
          "output_type": "stream",
          "name": "stdout",
          "text": [
            "Epoch 1/4\n",
            "621/621 [==============================] - 72s 110ms/step - loss: 2.0968 - accuracy: 0.4346 - val_loss: 1.7805 - val_accuracy: 0.4870\n",
            "Epoch 2/4\n",
            "621/621 [==============================] - 83s 133ms/step - loss: 1.6739 - accuracy: 0.5186 - val_loss: 1.6149 - val_accuracy: 0.5345\n",
            "Epoch 3/4\n",
            "621/621 [==============================] - 68s 109ms/step - loss: 1.5543 - accuracy: 0.5496 - val_loss: 1.5373 - val_accuracy: 0.5573\n",
            "Epoch 4/4\n",
            "621/621 [==============================] - 68s 110ms/step - loss: 1.4885 - accuracy: 0.5681 - val_loss: 1.4916 - val_accuracy: 0.5697\n"
          ]
        }
      ]
    },
    {
      "cell_type": "code",
      "source": [
        "def Enc_Dec_model(e2e_model, rnn_units=256, rnn_type=\"LSTM\"):\n",
        "\n",
        "    enc_inputs = e2e_model.input[0]\n",
        "    if rnn_type == \"LSTM\":\n",
        "        a , enc_state_h_, enc_state_c_ = e2e_model.layers[4].output\n",
        "        enc_states = [enc_state_h_, enc_state_c_]\n",
        "        enc_model = Model(enc_inputs, [enc_states, a])\n",
        "        dec_inputs = e2e_model.input[1]\n",
        "        dec_input_states_h = Input((rnn_units,))\n",
        "        dec_input_states_c = Input((rnn_units,))\n",
        "        dec_outputs, dec_output_states_h, dec_output_states_c = e2e_model.layers[5](\n",
        "            e2e_model.layers[3].output,\n",
        "            initial_state=[dec_input_states_h,dec_input_states_c])\n",
        "        dec_output = e2e_model.layers[6](dec_outputs)\n",
        "        dec_model = Model([dec_inputs,\n",
        "                           dec_input_states_h,\n",
        "                           dec_input_states_c],\n",
        "                          [dec_output,\n",
        "                           dec_output_states_h,\n",
        "                           dec_output_states_c])\n",
        "\n",
        "    else:\n",
        "        _, enc_states = e2e_model.layers[4].output\n",
        "        enc_model = Model(enc_inputs, enc_states)\n",
        "        dec_inputs = e2e_model.input[1]\n",
        "        dec_input_states = Input((rnn_units,))\n",
        "        dec_outputs, dec_output_states = e2e_model.layers[4](\n",
        "            e2e_model.layers[3](dec_inputs),\n",
        "            initial_state=dec_output_states)\n",
        "        dec_output = e2e_model.layers[6](dec_outputs)\n",
        "        dec_model = Model([dec_inputs,\n",
        "                           dec_input_states],\n",
        "                          [dec_output,\n",
        "                           dec_output_states])\n",
        "    return enc_model, dec_model"
      ],
      "metadata": {
        "id": "OLqnOLN9Vtae"
      },
      "execution_count": 27,
      "outputs": []
    },
    {
      "cell_type": "code",
      "source": [
        "encoder_model, decoder_model = Enc_Dec_model(model_lstm, rnn_units=RNN_units, rnn_type=\"LSTM\")"
      ],
      "metadata": {
        "id": "V3qmUFS6V2qu"
      },
      "execution_count": 28,
      "outputs": []
    },
    {
      "cell_type": "code",
      "source": [
        "encoder_model.summary(),decoder_model.summary()"
      ],
      "metadata": {
        "colab": {
          "base_uri": "https://localhost:8080/"
        },
        "id": "a8ZjdMCatP2k",
        "outputId": "6f73a4f4-d070-4ba2-9790-107d6c50ec4f"
      },
      "execution_count": 29,
      "outputs": [
        {
          "output_type": "stream",
          "name": "stdout",
          "text": [
            "Model: \"model_3\"\n",
            "_________________________________________________________________\n",
            " Layer (type)                Output Shape              Param #   \n",
            "=================================================================\n",
            " input_3 (InputLayer)        [(None, 65)]              0         \n",
            "                                                                 \n",
            " embedding_2 (Embedding)     (None, 65, 47)            2209      \n",
            "                                                                 \n",
            " lstm_2 (LSTM)               [(None, 65, 65),          29380     \n",
            "                              (None, 65),                        \n",
            "                              (None, 65)]                        \n",
            "                                                                 \n",
            "=================================================================\n",
            "Total params: 31,589\n",
            "Trainable params: 31,589\n",
            "Non-trainable params: 0\n",
            "_________________________________________________________________\n",
            "Model: \"model_4\"\n",
            "__________________________________________________________________________________________________\n",
            " Layer (type)                   Output Shape         Param #     Connected to                     \n",
            "==================================================================================================\n",
            " input_4 (InputLayer)           [(None, 65)]         0           []                               \n",
            "                                                                                                  \n",
            " embedding_3 (Embedding)        (None, 65, 47)       2209        ['input_4[0][0]']                \n",
            "                                                                                                  \n",
            " input_7 (InputLayer)           [(None, 65)]         0           []                               \n",
            "                                                                                                  \n",
            " input_8 (InputLayer)           [(None, 65)]         0           []                               \n",
            "                                                                                                  \n",
            " lstm_3 (LSTM)                  [(None, 65, 65),     29380       ['embedding_3[0][0]',            \n",
            "                                 (None, 65),                      'input_7[0][0]',                \n",
            "                                 (None, 65)]                      'input_8[0][0]']                \n",
            "                                                                                                  \n",
            " dense_1 (Dense)                (None, 65, 47)       3102        ['lstm_3[1][0]']                 \n",
            "                                                                                                  \n",
            "==================================================================================================\n",
            "Total params: 34,691\n",
            "Trainable params: 34,691\n",
            "Non-trainable params: 0\n",
            "__________________________________________________________________________________________________\n"
          ]
        },
        {
          "output_type": "execute_result",
          "data": {
            "text/plain": [
              "(None, None)"
            ]
          },
          "metadata": {},
          "execution_count": 29
        }
      ]
    },
    {
      "cell_type": "code",
      "source": [
        "EPOCH = 40\n",
        "model_lstm.compile(optimizer=\"adam\", loss=\"sparse_categorical_crossentropy\", metrics=[\"accuracy\"])\n",
        "history = model_lstm.fit(\n",
        "    [maped_input_text, maped_input_text_dec],\n",
        "    maped_output_text,\n",
        "    batch_size=BATCH_SIZE,\n",
        "    epochs=EPOCH,\n",
        "    validation_split=0.2,\n",
        "    callbacks=[checkpoint_callback],\n",
        "    verbose = 0,\n",
        ")"
      ],
      "metadata": {
        "id": "t4rRP-_XtkeO"
      },
      "execution_count": 30,
      "outputs": []
    },
    {
      "cell_type": "code",
      "source": [
        "import matplotlib.pyplot as plt\n",
        "print(history.history.keys())\n",
        "# summarize history for accuracy\n",
        "plt.plot(history.history['val_loss'])\n",
        "plt.plot(history.history['loss'])\n",
        "plt.title('model loss')\n",
        "plt.ylabel('LOSS')\n",
        "plt.xlabel('epoch')\n",
        "plt.legend(['val_loss', 'loss'], loc='upper left')\n",
        "plt.show()\n",
        "\n",
        "plt.plot(history.history['accuracy'])\n",
        "plt.plot(history.history['val_accuracy'])\n",
        "plt.title('model accuracy')\n",
        "plt.ylabel('accuracy')\n",
        "plt.xlabel('epoch')\n",
        "plt.legend(['accuracy', 'val_accuracy'], loc='upper left')\n",
        "plt.show()"
      ],
      "metadata": {
        "colab": {
          "base_uri": "https://localhost:8080/",
          "height": 590
        },
        "id": "n30MZYVHt5fr",
        "outputId": "4bc4c273-a147-4175-d953-77d3ee14aa6e"
      },
      "execution_count": 232,
      "outputs": [
        {
          "output_type": "stream",
          "name": "stdout",
          "text": [
            "dict_keys(['loss', 'accuracy', 'val_loss', 'val_accuracy'])\n"
          ]
        },
        {
          "output_type": "display_data",
          "data": {
            "text/plain": [
              "<Figure size 432x288 with 1 Axes>"
            ],
            "image/png": "[encoded data removed]"
          },
          "metadata": {
            "needs_background": "light"
          }
        },
        {
          "output_type": "display_data",
          "data": {
            "text/plain": [
              "<Figure size 432x288 with 1 Axes>"
            ],
            "image/png": "[encoded data removed]"
          },
          "metadata": {
            "needs_background": "light"
          }
        }
      ]
    },
    {
      "cell_type": "code",
      "source": [
        "# history.history['val_accuracy']"
      ],
      "metadata": {
        "id": "K0MTNwsKuD7o"
      },
      "execution_count": 233,
      "outputs": []
    },
    {
      "cell_type": "code",
      "source": [
        "# def generate_beyt(input_beyt, encoder, decoder):\n",
        "\n",
        "#     predectid = \"\\t\"\n",
        "#     output = \"\"\n",
        "#     # out_beyt_test = \"\\t\"\n",
        "#     x, a = encoder.predict(input_beyt)\n",
        "#     h_st, c_st = x\n",
        "#     counter = 0\n",
        "#     while predectid != \"\\n\" and len(output) < max_len:\n",
        "#         probs, h_st, c_st = decoder.predict([np.array(char_map_index[predectid], int).reshape((1,1)),\n",
        "#                                            h_st,\n",
        "#                                            c_st],\n",
        "#                                             verbose = 0)\n",
        "#         # probs, h_st, c_st = decoder.predict([np.expand_dims(np.array([char_map_index[i] for i in out_beyt_test]),axis = 0),\n",
        "#         #                                    h_st,\n",
        "#         #                                    c_st],\n",
        "#         #                                     verbose = 0)\n",
        "#         # print (probs.shape)\n",
        "#         # probs = probs[:,counter,:]\n",
        "        \n",
        "\n",
        "#         probs = probs.flatten()\n",
        "#         if next_char == \" \":\n",
        "#           probs[2] = probs[2] * (counter/max_len)**20\n",
        "#         probs = probs/np.sum(probs)\n",
        "#         predectid = index_map_char[np.random.choice(range(len(probs)), p=probs)]\n",
        "#         # next_char = idx_to_char[probs.argmax()]\n",
        "#         output += predectid\n",
        "#         # out_beyt_test += next_char\n",
        "#         # print(next_char)\n",
        "#         # counter += 1\n",
        "#     return output"
      ],
      "metadata": {
        "id": "dGRKhV6FV-hI"
      },
      "execution_count": 38,
      "outputs": []
    },
    {
      "cell_type": "code",
      "source": [
        "choosen_beyt = 7\n",
        "test = np.expand_dims(maped_input_text[choosen_beyt], axis = 0)\n",
        "_,test = encoder_model(test_input_enc)\n",
        "test = test.numpy().argmax(axis = 2)\n",
        "# print(test.shape)\n",
        "# .argmax()\n",
        "# print(test.shape)\n",
        "test_print = \"\"\n",
        "for i in test[0]:\n",
        "    # print(i)\n",
        "    test_print += index_map_char[i]\n",
        "test_print\n"
      ],
      "metadata": {
        "colab": {
          "base_uri": "https://localhost:8080/",
          "height": 35
        },
        "id": "_1mazXDv0qJo",
        "outputId": "c2650df9-e79e-4a0e-8560-0bd35247ca56"
      },
      "execution_count": 31,
      "outputs": [
        {
          "output_type": "execute_result",
          "data": {
            "text/plain": [
              "'کککککککسسسسسسسسسسسسسسسسسسسسسسسسسسسسسسسسسسسسسسسسسسسسسسسسسسسسسسسسسس'"
            ],
            "application/vnd.google.colaboratory.intrinsic+json": {
              "type": "string"
            }
          },
          "metadata": {},
          "execution_count": 31
        }
      ]
    },
    {
      "cell_type": "code",
      "source": [
        "def generator(input_beyt, encoder, decoder):\n",
        "\n",
        "    predectid = \"\\t\"\n",
        "    output = \"\"\n",
        "    # out_beyt_test = \"\\t\"\n",
        "    x, a = encoder.predict(input_beyt)\n",
        "    h_st, c_st = x\n",
        "    counter = 0\n",
        "    while predectid != \"\\n\" and len(output) < max_len:\n",
        "        probs, h_st, c_st = decoder.predict([np.array(char_map_index[predectid], int).reshape((1,1)),\n",
        "                                           h_st,\n",
        "                                           c_st],\n",
        "                                            verbose = 0)\n",
        "        \n",
        "\n",
        "        probs = probs.flatten()\n",
        "        predectid = index_map_char[np.random.choice(range(len(probs)), p=probs)]\n",
        "        output += predectid\n",
        "    return output"
      ],
      "metadata": {
        "id": "xMkSbqVD8ozn"
      },
      "execution_count": 32,
      "outputs": []
    },
    {
      "cell_type": "code",
      "source": [
        "choosen_beyt = 5\n",
        "test = np.expand_dims(maped_input_text[choosen_beyt], axis = 0)\n",
        "out_seq = generator(test, encoder_model, decoder_model)\n",
        "in_seq_chars = \"\"\n",
        "\n",
        "for i in test[0]:\n",
        "    in_seq_chars += index_map_char[i]\n",
        "print(f\"Input Sequence: {in_seq_chars}\")\n",
        "print(f\"Output Sequence: {out_seq}\")"
      ],
      "metadata": {
        "colab": {
          "base_uri": "https://localhost:8080/"
        },
        "id": "sDb1DUhtWBMU",
        "outputId": "626e6bf6-74ed-49bf-d109-7005b7552c6f"
      },
      "execution_count": 39,
      "outputs": [
        {
          "output_type": "stream",
          "name": "stdout",
          "text": [
            "1/1 [==============================] - 0s 35ms/step\n",
            "Input Sequence: نیابد بدو نیز اندیشه راه که او برتر از نام و از جایگاه           \n",
            "Output Sequence: زدی بر مرا کوه ازین کژی کنون بر شگفت او نامور نیز زنن            \n"
          ]
        }
      ]
    },
    {
      "cell_type": "code",
      "source": [
        "# np.expand_dims(np.array([char_map_index[i] for i in out_seq]),axis = 0).shape\n",
        "# test.shape\n",
        "# # max_len"
      ],
      "metadata": {
        "id": "CFV4sOJnHSDV"
      },
      "execution_count": 34,
      "outputs": []
    },
    {
      "cell_type": "code",
      "source": [
        "# char_map_index[\" \"]"
      ],
      "metadata": {
        "id": "6pxnIWeCJzOx"
      },
      "execution_count": 35,
      "outputs": []
    },
    {
      "cell_type": "code",
      "source": [
        "# maped_input_text[0]"
      ],
      "metadata": {
        "id": "uQXxm6H5WpoE"
      },
      "execution_count": 36,
      "outputs": []
    },
    {
      "cell_type": "code",
      "source": [
        "# ids_dataset = tf.data.Dataset.from_tensor_slices(all_ids)\n",
        "# ids_dataset_decoder = tf.data.Dataset.from_tensor_slices(all_ids_decoder)\n",
        "# for ids in ids_dataset.take(10):\n",
        "#     # print((ids.numpy()))\n",
        "#     print(chars_from_ids(ids).numpy()[0].decode('utf-8'))\n",
        "      "
      ],
      "metadata": {
        "id": "ox8A7eSEUKvo"
      },
      "execution_count": 37,
      "outputs": []
    },
    {
      "cell_type": "code",
      "source": [
        "# def text_from_ids(ids):\n",
        "#   return tf.strings.reduce_join(chars_from_ids(ids), axis=-1)\n",
        "\n",
        "# seq_length = max_len\n",
        "\n",
        "# sequences = ids_dataset.batch(seq_length, drop_remainder=True)\n",
        "# sequences_decoder = ids_dataset_decoder.batch(seq_length, drop_remainder=True)\n",
        "\n",
        "# for seq in sequences_decoder.take(3):\n",
        "#   # print(len(text_from_ids(seq).numpy().decode()))\n",
        "#   print(text_from_ids(seq).numpy().decode())"
      ],
      "metadata": {
        "colab": {
          "base_uri": "https://localhost:8080/"
        },
        "id": "kMLhWFZcUXyp",
        "outputId": "e3361b8f-4d4b-4dfb-a350-b2255adc6a11"
      },
      "execution_count": null,
      "outputs": [
        {
          "output_type": "stream",
          "name": "stdout",
          "text": [
            "کزین برتر اندیشه برنگذرد          \n",
            "\n",
            "خداوند نام و خداوند جای          \n",
            " \n",
            "خداوند روزی ده رهنمای           \n"
          ]
        }
      ]
    },
    {
      "cell_type": "code",
      "source": [
        "# def split_input_target(sequence):\n",
        "#     # print(sequence.shape)\n",
        "#     input_text = sequence[:-1]\n",
        "#     target_text = sequence[1:]\n",
        "#     return input_text, target_text"
      ],
      "metadata": {
        "id": "skIWTcMPUsQN"
      },
      "execution_count": null,
      "outputs": []
    },
    {
      "cell_type": "code",
      "source": [
        "# dataset = sequences.map(split_input_target)\n",
        "# dataset_decoder = sequences_decoder.map(split_input_target)"
      ],
      "metadata": {
        "id": "3VYSRWWJfQ3V"
      },
      "execution_count": null,
      "outputs": []
    },
    {
      "cell_type": "code",
      "source": [
        "# for input_example, target_example in dataset.take(1):\n",
        "#     print((input_example).shape)\n",
        "#     print(\"Input :\", text_from_ids(input_example).numpy().decode())\n",
        "#     print(\"Target:\", text_from_ids(target_example).numpy().decode())"
      ],
      "metadata": {
        "colab": {
          "base_uri": "https://localhost:8080/"
        },
        "id": "cANo2AYifUxA",
        "outputId": "30aa5567-c820-41ea-8238-10ff96472cbe"
      },
      "execution_count": null,
      "outputs": [
        {
          "output_type": "stream",
          "name": "stdout",
          "text": [
            "(33,)\n",
            "Input : به نام خداوند جان و خرد          \n",
            "Target: ه نام خداوند جان و خرد           \n"
          ]
        }
      ]
    },
    {
      "cell_type": "code",
      "source": [],
      "metadata": {
        "id": "ZL9dKNQsvNHk"
      },
      "execution_count": null,
      "outputs": []
    },
    {
      "cell_type": "code",
      "source": [
        "# BATCH_SIZE = 64\n",
        "# # BUFFER_SIZE = 128*10\n",
        "\n",
        "# dataset = (\n",
        "#     dataset\n",
        "#     # .shuffle(BUFFER_SIZE)\n",
        "#     .batch(BATCH_SIZE, drop_remainder=True)\n",
        "#     .prefetch(tf.data.experimental.AUTOTUNE))\n",
        "\n",
        "# dataset_decoder = (\n",
        "#     dataset_decoder\n",
        "#     # .shuffle(BUFFER_SIZE)\n",
        "#     .batch(BATCH_SIZE, drop_remainder=True)\n",
        "#     .prefetch(tf.data.experimental.AUTOTUNE))"
      ],
      "metadata": {
        "id": "zFGHFDK8fXMv"
      },
      "execution_count": null,
      "outputs": []
    },
    {
      "cell_type": "code",
      "source": [
        "# for input_example, target_example in dataset_decoder.take(1):\n",
        "#     print((input_example).shape)\n",
        "#     print(\"Input :\", text_from_ids(input_example[0]).numpy().decode())\n",
        "#     print(\"Target:\", text_from_ids(target_example[0]).numpy().decode())"
      ],
      "metadata": {
        "id": "yITDp2Skyp95"
      },
      "execution_count": null,
      "outputs": []
    },
    {
      "cell_type": "code",
      "source": [
        "# vocab_size = len(ids_from_chars.get_vocabulary())\n",
        "\n",
        "# embedding_dim = 64\n",
        "\n",
        "# RNN_units = 128"
      ],
      "metadata": {
        "id": "o-clJKyofxOS"
      },
      "execution_count": null,
      "outputs": []
    },
    {
      "cell_type": "code",
      "source": [
        "# class MyModel_LSTM(tf.keras.Model):\n",
        "#   def __init__(self, vocab_size, embedding_dim, rnn_units):\n",
        "#     super().__init__(self)\n",
        "#     self.embedding = tf.keras.layers.Embedding(vocab_size, embedding_dim)\n",
        "#     self.LSTM = tf.keras.layers.LSTM(rnn_units,\n",
        "#                                    return_sequences=False,\n",
        "#                                    return_state=True)\n",
        "#     self.LSTM1 = tf.keras.layers.LSTM(rnn_units,\n",
        "#                                    return_sequences=True,\n",
        "#                                    return_state=False)\n",
        "#     self.dense = tf.keras.layers.Dense(vocab_size, activation=tf.keras.activations.softmax)\n",
        "\n",
        "#   def call(self, inputs, outputs, states=None, return_state=False, training=False):\n",
        "#     x = inputs\n",
        "#     # print(x.shape,\"X\")\n",
        "#     x = self.embedding(x, training=training)\n",
        "#     # print(x.shape,\"X embedded\")\n",
        "#     if states is None:\n",
        "#       states = self.LSTM.get_initial_state(x)\n",
        "#       # print(states,\"TRUE STATES\")\n",
        "#     states = self.LSTM(x, initial_state=states, training=training)\n",
        "#     # print((states[0]).shape,(states[1]).shape,(states[2]).shape,\"STATES\")\n",
        "#     y = torch.roll(outputs, 1)\n",
        "#     # print(y.shape,\"Y\")\n",
        "#     y = self.embedding(y, training=training)\n",
        "#     # print(y.shape,\"Y embedded\")\n",
        "#     x = self.LSTM1(y, initial_state=[states[0],states[1]], training=training)\n",
        "#     x = self.dense(x, training=training)\n",
        "#     # print(x.shape)\n",
        "#     # if return_state:\n",
        "#     #   return x, states\n",
        "#     # else:\n",
        "#     return x"
      ],
      "metadata": {
        "id": "ieCClps4elBk"
      },
      "execution_count": null,
      "outputs": []
    },
    {
      "cell_type": "code",
      "source": [
        "# model1 = MyModel_LSTM(\n",
        "#     vocab_size=vocab_size,\n",
        "#     embedding_dim=embedding_dim,\n",
        "#     rnn_units=RNN_units\n",
        "#     # ,batch_size = BATCH_SIZE\n",
        "#     )"
      ],
      "metadata": {
        "id": "pc1LP-dRgFDP"
      },
      "execution_count": null,
      "outputs": []
    },
    {
      "cell_type": "code",
      "source": [
        "# temp = tf.random.normal([64, 10, 64])\n",
        "# model1.LSTM(temp,initial_state=model1.LSTM.get_initial_state(temp), training=False)\n",
        "# model1.LSTM(example_batch_predictions)"
      ],
      "metadata": {
        "id": "XuQ8_-CfUkCo"
      },
      "execution_count": null,
      "outputs": []
    },
    {
      "cell_type": "code",
      "source": [
        "# model1.summary()"
      ],
      "metadata": {
        "colab": {
          "base_uri": "https://localhost:8080/"
        },
        "id": "YyUcDw5ngzPW",
        "outputId": "3b096567-8c16-49e3-eef9-19f4d266fb53"
      },
      "execution_count": null,
      "outputs": [
        {
          "output_type": "stream",
          "name": "stdout",
          "text": [
            "Model: \"my_model_lstm_48\"\n",
            "_________________________________________________________________\n",
            " Layer (type)                Output Shape              Param #   \n",
            "=================================================================\n",
            " embedding_52 (Embedding)    multiple                  3008      \n",
            "                                                                 \n",
            " lstm_83 (LSTM)              multiple                  98816     \n",
            "                                                                 \n",
            " lstm_84 (LSTM)              multiple                  98816     \n",
            "                                                                 \n",
            " dense_52 (Dense)            multiple                  6063      \n",
            "                                                                 \n",
            "=================================================================\n",
            "Total params: 206,703\n",
            "Trainable params: 206,703\n",
            "Non-trainable params: 0\n",
            "_________________________________________________________________\n"
          ]
        }
      ]
    },
    {
      "cell_type": "code",
      "source": [
        "# print(\"Input:\\n\", text_from_ids(input_example_batch[0]).numpy().decode())\n",
        "# print()\n",
        "# print(\"Next Char Predictions:\\n\", text_from_ids(sampled_indices).numpy().decode())"
      ],
      "metadata": {
        "colab": {
          "base_uri": "https://localhost:8080/"
        },
        "id": "cx0YZa0ThgyM",
        "outputId": "006f01f1-cbae-4660-9c5c-af0ab9b5ca48"
      },
      "execution_count": null,
      "outputs": [
        {
          "output_type": "stream",
          "name": "stdout",
          "text": [
            "Input:\n",
            " به نام خداوند جان و خرد\n",
            "کزین برتر اندیشه برنگذرد\n",
            "خداوند نام و خداوند جای\n",
            "خداوند روزی ده رهنمای\n",
            "خداوند کیوان و گردان سپهر\n",
            "فروزند\n",
            "\n",
            "Next Char Predictions:\n",
            " ددنضپ«زژ«ژهرس)ؤفال،افحئئوکبغ«سعٔ»گغیا مزئنؤن[UNK]دثژبدیع ؤ ؤق(ظضچ[UNK]پٔزث؟«؟ظغرء[UNK]لجژ،ط\n",
            "ٔورلامل»ضجعم)مطصعکچٔ[UNK]دش صژدض(آغهحٔمپد»»جیجچ،ئآث\n"
          ]
        }
      ]
    },
    {
      "cell_type": "code",
      "source": [
        "# loss = tf.keras.losses.CategoricalCrossentropy(from_logits=True)"
      ],
      "metadata": {
        "id": "IDFIH_cYhjdq"
      },
      "execution_count": null,
      "outputs": []
    },
    {
      "cell_type": "code",
      "source": [
        "# model1.compile(optimizer='adam', loss=loss, metrics=['accuracy'])"
      ],
      "metadata": {
        "id": "-7ypauI3kzoq"
      },
      "execution_count": null,
      "outputs": []
    },
    {
      "cell_type": "code",
      "source": [
        "# Directory where the checkpoints will be saved\n",
        "# checkpoint_dir = './training_checkpoints'\n",
        "# # Name of the checkpoint files\n",
        "# checkpoint_prefix = os.path.join(checkpoint_dir, \"ckpt_{epoch}\")\n",
        "\n",
        "# checkpoint_callback = tf.keras.callbacks.ModelCheckpoint(\n",
        "#     filepath=checkpoint_prefix,\n",
        "#     save_weights_only=True)\n"
      ],
      "metadata": {
        "id": "aJJ1MW_Gk7SL"
      },
      "execution_count": null,
      "outputs": []
    },
    {
      "cell_type": "code",
      "source": [
        "# EPOCHS = 7\n",
        "# history = model1.fit(dataset, epochs=EPOCHS, callbacks=[checkpoint_callback])"
      ],
      "metadata": {
        "id": "LWLoCIQUk9fo"
      },
      "execution_count": 40,
      "outputs": []
    },
    {
      "cell_type": "code",
      "source": [
        "# import matplotlib.pyplot as plt\n",
        "# print(history.history.keys())\n",
        "# # summarize history for accuracy\n",
        "# plt.plot(history.history['accuracy'])\n",
        "# plt.plot(history.history['loss'])\n",
        "# plt.title('model accuracy')\n",
        "# plt.ylabel('accuracy')\n",
        "# plt.xlabel('epoch')\n",
        "# plt.legend(['accuracy', 'loss'], loc='upper left')\n",
        "# plt.show()"
      ],
      "metadata": {
        "colab": {
          "base_uri": "https://localhost:8080/",
          "height": 312
        },
        "id": "QRuuG34ZhweX",
        "outputId": "905602e3-8366-421d-ee48-30d0ff7f26d6"
      },
      "execution_count": null,
      "outputs": [
        {
          "metadata": {
            "tags": null
          },
          "name": "stdout",
          "output_type": "stream",
          "text": [
            "dict_keys(['loss', 'accuracy'])\n"
          ]
        },
        {
          "output_type": "display_data",
          "data": {
            "text/plain": [
              "<Figure size 432x288 with 1 Axes>"
            ],
            "image/png": "[encoded data removed]"
          },
          "metadata": {
            "needs_background": "light"
          }
        }
      ]
    },
    {
      "cell_type": "code",
      "source": [
        "# class OneStep(tf.keras.Model):\n",
        "#   def __init__(self, model, chars_from_ids, ids_from_chars, temperature=1.0):\n",
        "#     super().__init__()\n",
        "#     self.temperature = temperature\n",
        "#     self.model = model\n",
        "#     self.chars_from_ids = chars_from_ids\n",
        "#     self.ids_from_chars = ids_from_chars\n",
        "\n",
        "#     # Create a mask to prevent \"[UNK]\" from being generated.\n",
        "#     skip_ids = self.ids_from_chars(['[UNK]'])[:, None]\n",
        "#     sparse_mask = tf.SparseTensor(\n",
        "#         # Put a -inf at each bad index.\n",
        "#         values=[-float('inf')]*len(skip_ids),\n",
        "#         indices=skip_ids,\n",
        "#         # Match the shape to the vocabulary\n",
        "#         dense_shape=[len(ids_from_chars.get_vocabulary())])\n",
        "#     self.prediction_mask = tf.sparse.to_dense(sparse_mask)\n",
        "\n",
        "#   @tf.function\n",
        "#   def generate_one_step(self, inputs, states=None):\n",
        "#     # Convert strings to token IDs.\n",
        "#     input_chars = tf.strings.unicode_split(inputs, 'UTF-8')\n",
        "#     input_ids = self.ids_from_chars(input_chars).to_tensor()\n",
        "\n",
        "#     # Run the model.\n",
        "#     # predicted_logits.shape is [batch, char, next_char_logits]\n",
        "#     predicted_logits, states = self.model(inputs=input_ids, states=states,\n",
        "#                                           return_state=True)\n",
        "#     # Only use the last prediction.\n",
        "#     predicted_logits = predicted_logits[:, -1, :]\n",
        "#     predicted_logits = predicted_logits/self.temperature\n",
        "#     # Apply the prediction mask: prevent \"[UNK]\" from being generated.\n",
        "#     predicted_logits = predicted_logits + self.prediction_mask\n",
        "\n",
        "#     # Sample the output logits to generate token IDs.\n",
        "#     predicted_ids = tf.random.categorical(predicted_logits, num_samples=1)\n",
        "#     predicted_ids = tf.squeeze(predicted_ids, axis=-1)\n",
        "\n",
        "#     # Convert from token ids to characters\n",
        "#     predicted_chars = self.chars_from_ids(predicted_ids)\n",
        "\n",
        "#     # Return the characters and model state.\n",
        "#     return predicted_chars, states"
      ],
      "metadata": {
        "id": "QdoRok2elCL4"
      },
      "execution_count": null,
      "outputs": []
    },
    {
      "cell_type": "code",
      "source": [
        "# one_step_model = OneStep(model, chars_from_ids, ids_from_chars)"
      ],
      "metadata": {
        "id": "Ddg9JeV6CxT8"
      },
      "execution_count": null,
      "outputs": []
    },
    {
      "cell_type": "code",
      "source": [
        "# states = None\n",
        "# next_char = tf.constant(['مرا مادرم نام مرگ تو هشت'])\n",
        "# result = [next_char]\n",
        "# counter = 0\n",
        "# for n in range(1000):\n",
        "#   next_char, states = one_step_model.generate_one_step(next_char, states=states)\n",
        "#   result.append(next_char)\n",
        "#   if next_char == '\\n': \n",
        "#     counter += 1\n",
        "#     if counter == 2:\n",
        "#       break\n",
        "\n",
        "# result = tf.strings.join(result)\n",
        "# print(result[0].numpy().decode('utf-8'))"
      ],
      "metadata": {
        "colab": {
          "base_uri": "https://localhost:8080/"
        },
        "id": "DE3iEfwNCzc8",
        "outputId": "5faa7917-4a37-43be-ad6f-9d162fcb29fd"
      },
      "execution_count": null,
      "outputs": [
        {
          "output_type": "stream",
          "name": "stdout",
          "text": [
            "مرا مادرم نام مرگ تو هشت\n",
            "یکی خستگیها نشایدت خواست\n",
            "\n"
          ]
        }
      ]
    },
    {
      "cell_type": "code",
      "source": [
        "# tf.saved_model.save(one_step_model, 'one_step')\n",
        "# one_step_reloaded = tf.saved_model.load('one_step')"
      ],
      "metadata": {
        "id": "o2bclc3aC2yR"
      },
      "execution_count": 41,
      "outputs": []
    },
    {
      "cell_type": "code",
      "source": [],
      "metadata": {
        "id": "nqUSOQTPDTJt"
      },
      "execution_count": null,
      "outputs": []
    }
  ]
}