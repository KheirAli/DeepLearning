{
  "nbformat": 4,
  "nbformat_minor": 0,
  "metadata": {
    "colab": {
      "provenance": []
    },
    "kernelspec": {
      "name": "python3",
      "display_name": "Python 3"
    },
    "language_info": {
      "name": "python"
    },
    "accelerator": "GPU",
    "gpuClass": "standard"
  },
  "cells": [
    {
      "cell_type": "markdown",
      "source": [
        "**Alireza Kheirandish**\n",
        "\n",
        "97101604"
      ],
      "metadata": {
        "id": "vFUh0aHsTd2N"
      }
    },
    {
      "cell_type": "code",
      "execution_count": 1,
      "metadata": {
        "id": "X35axP51Tucd"
      },
      "outputs": [],
      "source": [
        "import numpy as np\n",
        "import os\n",
        "from sklearn.metrics import confusion_matrix\n",
        "import torch\n",
        "import torch.nn as nn\n",
        "from torch.utils.data import Dataset, DataLoader, random_split, WeightedRandomSampler\n",
        "import pandas as pd\n",
        "import seaborn as sns\n",
        "import matplotlib.pyplot as plt"
      ]
    },
    {
      "cell_type": "code",
      "source": [
        "from notebook.services.config import ConfigManager\n",
        "cm = ConfigManager().update('notebook', {'limit_output': 1000})\n",
        "device = \"cuda\" if torch.cuda.is_available() else \"cpu\"\n",
        "print(device)"
      ],
      "metadata": {
        "colab": {
          "base_uri": "https://localhost:8080/"
        },
        "id": "N3Vgp4DEX14Q",
        "outputId": "06941024-16df-41a8-ab85-0548d4d82936"
      },
      "execution_count": 2,
      "outputs": [
        {
          "output_type": "stream",
          "name": "stdout",
          "text": [
            "cuda\n"
          ]
        }
      ]
    },
    {
      "cell_type": "code",
      "source": [
        "!pip install transformers"
      ],
      "metadata": {
        "colab": {
          "base_uri": "https://localhost:8080/"
        },
        "id": "sHsNfQtMU9C2",
        "outputId": "ad2c9806-4834-4aed-86bb-f38fa44b4b45"
      },
      "execution_count": 3,
      "outputs": [
        {
          "output_type": "stream",
          "name": "stdout",
          "text": [
            "Looking in indexes: https://pypi.org/simple, https://us-python.pkg.dev/colab-wheels/public/simple/\n",
            "Requirement already satisfied: transformers in /usr/local/lib/python3.8/dist-packages (4.26.0)\n",
            "Requirement already satisfied: packaging>=20.0 in /usr/local/lib/python3.8/dist-packages (from transformers) (23.0)\n",
            "Requirement already satisfied: numpy>=1.17 in /usr/local/lib/python3.8/dist-packages (from transformers) (1.21.6)\n",
            "Requirement already satisfied: filelock in /usr/local/lib/python3.8/dist-packages (from transformers) (3.9.0)\n",
            "Requirement already satisfied: regex!=2019.12.17 in /usr/local/lib/python3.8/dist-packages (from transformers) (2022.6.2)\n",
            "Requirement already satisfied: requests in /usr/local/lib/python3.8/dist-packages (from transformers) (2.25.1)\n",
            "Requirement already satisfied: pyyaml>=5.1 in /usr/local/lib/python3.8/dist-packages (from transformers) (6.0)\n",
            "Requirement already satisfied: tokenizers!=0.11.3,<0.14,>=0.11.1 in /usr/local/lib/python3.8/dist-packages (from transformers) (0.13.2)\n",
            "Requirement already satisfied: tqdm>=4.27 in /usr/local/lib/python3.8/dist-packages (from transformers) (4.64.1)\n",
            "Requirement already satisfied: huggingface-hub<1.0,>=0.11.0 in /usr/local/lib/python3.8/dist-packages (from transformers) (0.12.0)\n",
            "Requirement already satisfied: typing-extensions>=3.7.4.3 in /usr/local/lib/python3.8/dist-packages (from huggingface-hub<1.0,>=0.11.0->transformers) (4.4.0)\n",
            "Requirement already satisfied: urllib3<1.27,>=1.21.1 in /usr/local/lib/python3.8/dist-packages (from requests->transformers) (1.24.3)\n",
            "Requirement already satisfied: chardet<5,>=3.0.2 in /usr/local/lib/python3.8/dist-packages (from requests->transformers) (4.0.0)\n",
            "Requirement already satisfied: idna<3,>=2.5 in /usr/local/lib/python3.8/dist-packages (from requests->transformers) (2.10)\n",
            "Requirement already satisfied: certifi>=2017.4.17 in /usr/local/lib/python3.8/dist-packages (from requests->transformers) (2022.12.7)\n"
          ]
        }
      ]
    },
    {
      "cell_type": "code",
      "source": [
        "!git clone 'https://github.com/amnghd/Persian_poems_corpus.git'"
      ],
      "metadata": {
        "colab": {
          "base_uri": "https://localhost:8080/"
        },
        "id": "kBpN2aAoVKBb",
        "outputId": "b67e3519-25b5-4b17-aaf9-695f56862185"
      },
      "execution_count": 4,
      "outputs": [
        {
          "output_type": "stream",
          "name": "stdout",
          "text": [
            "fatal: destination path 'Persian_poems_corpus' already exists and is not an empty directory.\n"
          ]
        }
      ]
    },
    {
      "cell_type": "code",
      "source": [
        "from transformers import BertModel, BertTokenizer, BertConfig\n",
        "\n",
        "config = BertConfig.from_pretrained(\"HooshvareLab/bert-fa-base-uncased\")\n",
        "tokenizer = BertTokenizer.from_pretrained(\"HooshvareLab/bert-fa-base-uncased\")\n",
        "bert_model = BertModel.from_pretrained(\"HooshvareLab/bert-fa-base-uncased\")"
      ],
      "metadata": {
        "colab": {
          "base_uri": "https://localhost:8080/"
        },
        "id": "tz5BVRQAVECx",
        "outputId": "e88fe7a3-63ea-4be8-a6a5-746cc27ff219"
      },
      "execution_count": 5,
      "outputs": [
        {
          "output_type": "stream",
          "name": "stderr",
          "text": [
            "Some weights of the model checkpoint at HooshvareLab/bert-fa-base-uncased were not used when initializing BertModel: ['cls.predictions.transform.LayerNorm.weight', 'cls.predictions.decoder.bias', 'cls.predictions.decoder.weight', 'cls.predictions.bias', 'cls.predictions.transform.dense.weight', 'cls.predictions.transform.LayerNorm.bias', 'cls.predictions.transform.dense.bias', 'cls.seq_relationship.bias', 'cls.seq_relationship.weight']\n",
            "- This IS expected if you are initializing BertModel from the checkpoint of a model trained on another task or with another architecture (e.g. initializing a BertForSequenceClassification model from a BertForPreTraining model).\n",
            "- This IS NOT expected if you are initializing BertModel from the checkpoint of a model that you expect to be exactly identical (initializing a BertForSequenceClassification model from a BertForSequenceClassification model).\n"
          ]
        }
      ]
    },
    {
      "cell_type": "markdown",
      "source": [
        "**Part A & C:**"
      ],
      "metadata": {
        "id": "VMKYzx_Vadua"
      }
    },
    {
      "cell_type": "code",
      "source": [
        "choosen_poets = [\"anvari\", \"hafez\", \"asad\", \"asadi\", \"saadi\", \"moulavi\", \"vahshi\", \"attar\", \"amir\", \"sanaee\"]\n",
        "poets_len = len(choosen_poets)"
      ],
      "metadata": {
        "id": "NN4pOIYVVPWm"
      },
      "execution_count": 6,
      "outputs": []
    },
    {
      "cell_type": "code",
      "source": [
        "def load_data(choosen_poets):\n",
        "    beyts_all = []\n",
        "    n_beyts = []\n",
        "    for i, poet in enumerate(choosen_poets):\n",
        "        file_name = poet + \"_norm.txt\"\n",
        "        root = \"/content/Persian_poems_corpus/normalized\"\n",
        "        path = os.path.join(root, file_name)\n",
        "        with open(path, 'r') as f:\n",
        "            txt = f.read().splitlines()[2:]\n",
        "        beyts = [\" \".join([x, y]) for x, y in zip(txt[0::2], txt[1::2])]\n",
        "        n_beyts.append(len(beyts))\n",
        "        beyts_all.append(beyts)\n",
        "    return beyts_all, np.array(n_beyts)"
      ],
      "metadata": {
        "id": "VzYOalpYVGJD"
      },
      "execution_count": 7,
      "outputs": []
    },
    {
      "cell_type": "code",
      "source": [
        "X, n_beyts = load_data(choosen_poets)\n",
        "min(n_beyts)"
      ],
      "metadata": {
        "id": "zk0wF9e_WEfN",
        "colab": {
          "base_uri": "https://localhost:8080/"
        },
        "outputId": "3b54bf8a-003c-437e-b56e-132fdc2b2d99"
      },
      "execution_count": 8,
      "outputs": [
        {
          "output_type": "execute_result",
          "data": {
            "text/plain": [
              "5113"
            ]
          },
          "metadata": {},
          "execution_count": 8
        }
      ]
    },
    {
      "cell_type": "code",
      "source": [
        "(X[0][0])"
      ],
      "metadata": {
        "colab": {
          "base_uri": "https://localhost:8080/",
          "height": 37
        },
        "id": "iSsTEVoaYARs",
        "outputId": "7918c612-2434-4878-99c8-172d4373261c"
      },
      "execution_count": 9,
      "outputs": [
        {
          "output_type": "execute_result",
          "data": {
            "text/plain": [
              "'بیا ای جان بیا ای جان بیا فریاد رس ما را چو ما را یک نفس باشد نباشی یک نفس ما را'"
            ],
            "application/vnd.google.colaboratory.intrinsic+json": {
              "type": "string"
            }
          },
          "metadata": {},
          "execution_count": 9
        }
      ]
    },
    {
      "cell_type": "code",
      "source": [
        "X_final = []\n",
        "y_final = []\n",
        "for i, x in enumerate(X):\n",
        "    idx = np.arange(n_beyts[i])\n",
        "    np.random.shuffle(idx)\n",
        "    x_temp = [x[j] for j in range(min(n_beyts))]\n",
        "    X_final += x_temp\n",
        "    y_final.append(i * np.ones(len(x_temp)))\n",
        "y_final = np.concatenate(y_final)"
      ],
      "metadata": {
        "id": "cq-lOWMIWH39"
      },
      "execution_count": 10,
      "outputs": []
    },
    {
      "cell_type": "code",
      "source": [
        "class MyDataset(Dataset):\n",
        "    def __init__(self, beyts, labels, tokenizer_):\n",
        "        self.beyts = beyts\n",
        "        self.labels = labels\n",
        "        self.tokenizer_ = tokenizer_\n",
        "    def __len__(self):\n",
        "        return len(self.beyts)\n",
        "    def __getitem__(self, item):\n",
        "        beyt = self.beyts[item]\n",
        "        label = self.labels[item]\n",
        "        tokenized = self.tokenizer_.encode_plus(\n",
        "            beyt,\n",
        "            None,\n",
        "            add_special_tokens=True,\n",
        "            max_length= 50,\n",
        "            padding='max_length',\n",
        "            return_token_type_ids=True,\n",
        "            return_tensors='pt'\n",
        "        )\n",
        "        tokenized['label'] = torch.LongTensor([int(label)])\n",
        "        tokenized['input_ids'] = tokenized['input_ids'].flatten()\n",
        "        tokenized['token_type_ids'] = tokenized['token_type_ids'].flatten()\n",
        "        tokenized['attention_mask'] = tokenized['attention_mask'].flatten()\n",
        "        return tokenized"
      ],
      "metadata": {
        "id": "vgnKQVg-aDhG"
      },
      "execution_count": 11,
      "outputs": []
    },
    {
      "cell_type": "code",
      "source": [
        "data = MyDataset(X_final, y_final, tokenizer)\n"
      ],
      "metadata": {
        "id": "dATmTsoszk1W"
      },
      "execution_count": 12,
      "outputs": []
    },
    {
      "cell_type": "code",
      "source": [
        "train_data, validation_data, test_data = random_split(data, [0.8, 0.12, 0.08])"
      ],
      "metadata": {
        "id": "YaZGfzN1zmsY"
      },
      "execution_count": 13,
      "outputs": []
    },
    {
      "cell_type": "code",
      "source": [
        "language_model_frozen = BertModel.from_pretrained(\"HooshvareLab/bert-fa-base-uncased\")"
      ],
      "metadata": {
        "colab": {
          "base_uri": "https://localhost:8080/"
        },
        "id": "KiY_pRea5Km4",
        "outputId": "afa06d5a-d8fc-4f29-c046-954c63d22aa0"
      },
      "execution_count": 14,
      "outputs": [
        {
          "output_type": "stream",
          "name": "stderr",
          "text": [
            "Some weights of the model checkpoint at HooshvareLab/bert-fa-base-uncased were not used when initializing BertModel: ['cls.predictions.transform.LayerNorm.weight', 'cls.predictions.decoder.bias', 'cls.predictions.decoder.weight', 'cls.predictions.bias', 'cls.predictions.transform.dense.weight', 'cls.predictions.transform.LayerNorm.bias', 'cls.predictions.transform.dense.bias', 'cls.seq_relationship.bias', 'cls.seq_relationship.weight']\n",
            "- This IS expected if you are initializing BertModel from the checkpoint of a model trained on another task or with another architecture (e.g. initializing a BertForSequenceClassification model from a BertForPreTraining model).\n",
            "- This IS NOT expected if you are initializing BertModel from the checkpoint of a model that you expect to be exactly identical (initializing a BertForSequenceClassification model from a BertForSequenceClassification model).\n"
          ]
        }
      ]
    },
    {
      "cell_type": "code",
      "source": [
        "temp = train_data[0]\n",
        "temp = language_model_frozen(input_ids=torch.unsqueeze(temp['input_ids'], dim=0),\n",
        "                                attention_mask=torch.unsqueeze(temp['attention_mask'], dim=0),\n",
        "                                token_type_ids=torch.unsqueeze(temp['token_type_ids'], dim=0))['pooler_output']\n",
        "last_layer_size = temp.shape[1]"
      ],
      "metadata": {
        "id": "3LFoRveA5Q2N"
      },
      "execution_count": 15,
      "outputs": []
    },
    {
      "cell_type": "code",
      "source": [
        "# temp = train_data[0]\n",
        "# torch.mean(torch.exp(language_model_frozen(input_ids=torch.unsqueeze(temp['input_ids'], dim=0),\n",
        "#                                 attention_mask=torch.unsqueeze(temp['attention_mask'], dim=0),\n",
        "#                                 token_type_ids=torch.unsqueeze(temp['token_type_ids'], dim=0))[0]))"
      ],
      "metadata": {
        "id": "mJfbZM2ahyUm"
      },
      "execution_count": 16,
      "outputs": []
    },
    {
      "cell_type": "code",
      "source": [
        "BATCH_SIZE = 64\n",
        "EPOCHS = 5"
      ],
      "metadata": {
        "id": "LVVUdfsDz9kw"
      },
      "execution_count": 17,
      "outputs": []
    },
    {
      "cell_type": "code",
      "source": [
        "from tqdm import tqdm\n",
        "class MyModel(nn.Module):\n",
        "    def __init__(self, \n",
        "                 language_model,\n",
        "                 classifier_model,\n",
        "                 tuning_method,\n",
        "                 optimizer=\"ADAM\"\n",
        "                 ):\n",
        "        \n",
        "        super(MyModel, self).__init__()\n",
        "        self.criterion = nn.CrossEntropyLoss()\n",
        "        self.lr = 1e-5\n",
        "        self.language_model = language_model\n",
        "        self.classifier_model = classifier_model\n",
        "        # self.per = []\n",
        "        if tuning_method == \"fine-tune\":\n",
        "            params = list(self.classifier_model.parameters()) + list(self.language_model.parameters())\n",
        "        else:\n",
        "            params = self.classifier_model.parameters()\n",
        "\n",
        "        if optimizer == \"SGD\":\n",
        "            self.optimizer = torch.optim.SGD(params, lr=self.lr)\n",
        "        else:\n",
        "            self.optimizer = torch.optim.Adam(params, lr=self.lr)\n",
        "\n",
        "    def forward(self, ids, types, mask):\n",
        "        lan_out = self.language_model(\n",
        "            input_ids=ids,\n",
        "            attention_mask=mask,\n",
        "            token_type_ids=types\n",
        "        )\n",
        "        loss_per = (torch.sum(torch.exp(lan_out[0])).to(device))\n",
        "        # print(lan_out.keys())\n",
        "        out = self.classifier_model(lan_out[\"pooler_output\"])\n",
        "        \n",
        "        return [out,loss_per]\n",
        "\n",
        "    @staticmethod \n",
        "    def calculate_accuracy(predicted, true_labels):\n",
        "        accuracy = torch.sum(predicted == true_labels) / true_labels.shape[0]\n",
        "        return accuracy.item()\n",
        "\n",
        "    def evaluate(self, evaluation_data, batch_size, phase):\n",
        "        self.eval()\n",
        "        evaluation_loader = DataLoader(evaluation_data,\n",
        "                                       batch_size=batch_size,\n",
        "                                       shuffle=True)\n",
        "        loss = 0\n",
        "        loss_per = 0\n",
        "        accuracy = 0\n",
        "        cm = np.zeros((poets_len, poets_len), dtype=int)\n",
        "        for batch in evaluation_loader:\n",
        "            with torch.no_grad():\n",
        "                ids = batch[\"input_ids\"].to(device)\n",
        "                types = batch[\"token_type_ids\"].to(device)\n",
        "                mask = batch[\"attention_mask\"].to(device)\n",
        "                labels_1 = batch[\"label\"].flatten().to(device)\n",
        "                # print((labels.shape))\n",
        "                outputs, loss_ = self.forward(ids, types, mask)\n",
        "                # print((outputs.shape))\n",
        "                predicted = torch.argmax(outputs, dim=-1)\n",
        "                # print((predicted.shape))\n",
        "                loss += self.criterion(outputs, labels_1).item() * len(labels_1)\n",
        "                t = self.calculate_accuracy(predicted, labels_1)\n",
        "                accuracy += t * len(labels_1)\n",
        "                loss_per = loss_ * len(labels_1)\n",
        "                if phase == \"test\":\n",
        "                    \n",
        "                    cm += confusion_matrix(labels_1.cpu(), \n",
        "                                           predicted.cpu(),\n",
        "                                           labels=[i for i in range(poets_len)])\n",
        "        if phase == \"test\":\n",
        "          print(loss_per/len(evaluation_data))\n",
        "        loss_per/= len(evaluation_data)\n",
        "        accuracy /= len(evaluation_data)\n",
        "        loss /= len(evaluation_data)\n",
        "        return accuracy, loss, cm, loss_per\n",
        "\n",
        "    def fit(self, train_data, val_data, batch_size=64, n_epoch=12):\n",
        "\n",
        "        train_loader = DataLoader(train_data,\n",
        "                                  batch_size=batch_size,\n",
        "                                  shuffle=True)\n",
        "\n",
        "        self.train_acc = []\n",
        "        self.val_acc = []\n",
        "        self.train_loss = []\n",
        "        self.val_loss = []\n",
        "        self.loss_per = []\n",
        "\n",
        "        self.train()\n",
        "        for epoch in range(n_epoch):\n",
        "            print(f\"Epoch #{epoch+1}:\")\n",
        "            loss_per_e = 0\n",
        "            for batch in tqdm(train_loader):\n",
        "                ids = batch[\"input_ids\"].to(device)\n",
        "                types = batch[\"token_type_ids\"].to(device)\n",
        "                mask = batch[\"attention_mask\"].to(device)\n",
        "                labels = batch[\"label\"].flatten().to(device)\n",
        "\n",
        "                output,loss_ = self.forward(ids, types, mask)\n",
        "                self.optimizer.zero_grad()\n",
        "                loss = self.criterion(output, labels)\n",
        "                loss.backward()\n",
        "                self.optimizer.step()\n",
        "                loss_per_e += loss_\n",
        "\n",
        "            train_acc_epoch, train_loss_epoch, train_cm, loss_per_e_train = self.evaluate(train_data, batch_size, \"train\")\n",
        "            val_acc_epoch, val_loss_epoch, val_cm, loss_per_e_val = self.evaluate(val_data, batch_size, \"validation\")\n",
        "            self.train_acc.append(train_acc_epoch)\n",
        "            self.train_loss.append(train_loss_epoch)\n",
        "            self.val_acc.append(val_acc_epoch)\n",
        "            self.val_loss.append(val_loss_epoch)\n",
        "            self.loss_per.append(loss_per_e_train)\n",
        "\n",
        "            print(f\"train_acc={(train_acc_epoch*100):.2f}%, train_loss = {train_loss_epoch:.2f}\")\n",
        "            print(f\"val_acc={(val_acc_epoch*100):.2f}%, val_loss = {val_loss_epoch:.2f}\")\n",
        "            print(f\"Perplexity={(loss_per_e_train):.2f}\")"
      ],
      "metadata": {
        "id": "zXKHVWT80fcF"
      },
      "execution_count": 18,
      "outputs": []
    },
    {
      "cell_type": "code",
      "source": [
        "from tqdm import tqdm\n",
        "class MyModel_without_per(nn.Module):\n",
        "    def __init__(self, \n",
        "                 language_model,\n",
        "                 classifier_model,\n",
        "                 tuning_method,\n",
        "                 optimizer=\"ADAM\",\n",
        "                 lr = 1e-4):\n",
        "        \n",
        "        super(MyModel_without_per, self).__init__()\n",
        "        self.criterion = nn.CrossEntropyLoss()\n",
        "        self.lr = lr\n",
        "        self.language_model = language_model\n",
        "        self.classifier_model = classifier_model\n",
        "        # self.per = []\n",
        "        if tuning_method == \"fine-tune\":\n",
        "            params = list(self.classifier_model.parameters()) + list(self.language_model.parameters())\n",
        "        else:\n",
        "            params = self.classifier_model.parameters()\n",
        "\n",
        "        if optimizer == \"SGD\":\n",
        "            self.optimizer = torch.optim.SGD(params, lr=self.lr)\n",
        "        else:\n",
        "            self.optimizer = torch.optim.Adam(params, lr=self.lr)\n",
        "\n",
        "    def forward(self, ids, types, mask):\n",
        "        lan_out = self.language_model(\n",
        "            input_ids=ids,\n",
        "            attention_mask=mask,\n",
        "            token_type_ids=types\n",
        "        )\n",
        "        # loss_per = (torch.sum(torch.exp(lan_out[0])).to(device))\n",
        "        # print(lan_out.keys())\n",
        "        out = self.classifier_model(lan_out[\"pooler_output\"])\n",
        "        \n",
        "        return out\n",
        "\n",
        "    @staticmethod \n",
        "    def calculate_accuracy(predicted, true_labels):\n",
        "        accuracy = torch.sum(predicted == true_labels) / true_labels.shape[0]\n",
        "        return accuracy.item()\n",
        "\n",
        "    def evaluate(self, evaluation_data, batch_size, phase):\n",
        "        self.eval()\n",
        "        evaluation_loader = DataLoader(evaluation_data,\n",
        "                                       batch_size=batch_size,\n",
        "                                       shuffle=True)\n",
        "        loss = 0\n",
        "        # loss_per = 0\n",
        "        accuracy = 0\n",
        "        cm = np.zeros((poets_len, poets_len), dtype=int)\n",
        "        for batch in evaluation_loader:\n",
        "            with torch.no_grad():\n",
        "                ids = batch[\"input_ids\"].to(device)\n",
        "                types = batch[\"token_type_ids\"].to(device)\n",
        "                mask = batch[\"attention_mask\"].to(device)\n",
        "                labels_1 = batch[\"label\"].flatten().to(device)\n",
        "                # print((labels.shape))\n",
        "                outputs = self.forward(ids, types, mask)\n",
        "                # print((outputs.shape))\n",
        "                predicted = torch.argmax(outputs, dim=-1)\n",
        "                # print((predicted.shape))\n",
        "                loss += self.criterion(outputs, labels_1).item() * len(labels_1)\n",
        "                t = self.calculate_accuracy(predicted, labels_1)\n",
        "                accuracy += t * len(labels_1)\n",
        "                # loss_per = loss_ * len(labels_1)\n",
        "                if phase == \"test\":\n",
        "                    \n",
        "                    cm += confusion_matrix(labels_1.cpu(), \n",
        "                                           predicted.cpu(),\n",
        "                                           labels=[i for i in range(poets_len)])\n",
        "        # if phase == \"test\":\n",
        "        #   print(loss_per/len(evaluation_data))\n",
        "        # loss_per/= len(evaluation_data)\n",
        "        accuracy /= len(evaluation_data)\n",
        "        loss /= len(evaluation_data)\n",
        "        return accuracy, loss, cm\n",
        "\n",
        "    def fit(self, train_data, val_data, batch_size=64, n_epoch=12):\n",
        "\n",
        "        train_loader = DataLoader(train_data,\n",
        "                                  batch_size=batch_size,\n",
        "                                  shuffle=True)\n",
        "\n",
        "        self.train_acc = []\n",
        "        self.val_acc = []\n",
        "        self.train_loss = []\n",
        "        self.val_loss = []\n",
        "        # self.loss_per = []\n",
        "\n",
        "        self.train()\n",
        "        for epoch in range(n_epoch):\n",
        "            print(f\"Epoch #{epoch+1}:\")\n",
        "            loss_per_e = 0\n",
        "            for batch in tqdm(train_loader):\n",
        "                ids = batch[\"input_ids\"].to(device)\n",
        "                types = batch[\"token_type_ids\"].to(device)\n",
        "                mask = batch[\"attention_mask\"].to(device)\n",
        "                labels = batch[\"label\"].flatten().to(device)\n",
        "\n",
        "                output = self.forward(ids, types, mask)\n",
        "                self.optimizer.zero_grad()\n",
        "                loss = self.criterion(output, labels)\n",
        "                loss.backward()\n",
        "                self.optimizer.step()\n",
        "                # loss_per_e += loss_\n",
        "\n",
        "            train_acc_epoch, train_loss_epoch, train_cm = self.evaluate(train_data, batch_size, \"train\")\n",
        "            val_acc_epoch, val_loss_epoch, val_cm = self.evaluate(val_data, batch_size, \"validation\")\n",
        "            self.train_acc.append(train_acc_epoch)\n",
        "            self.train_loss.append(train_loss_epoch)\n",
        "            self.val_acc.append(val_acc_epoch)\n",
        "            self.val_loss.append(val_loss_epoch)\n",
        "            # self.loss_per.append(loss_per_e_train)\n",
        "\n",
        "            print(f\"train_acc={(train_acc_epoch*100):.2f}%, train_loss = {train_loss_epoch:.2f}\")\n",
        "            print(f\"val_acc={(val_acc_epoch*100):.2f}%, val_loss = {val_loss_epoch:.2f}\")\n",
        "            # print(f\"Perplexity={(loss_per_e_train):.2f}\")"
      ],
      "metadata": {
        "id": "6mBSFOF1BGmu"
      },
      "execution_count": 24,
      "outputs": []
    },
    {
      "cell_type": "code",
      "source": [
        "simple_linear_model = nn.Sequential(*[\n",
        "                            nn.Flatten(),\n",
        "                            nn.Linear(last_layer_size, poets_len)\n",
        "                            ])\n",
        "my_model_1 = MyModel(language_model_frozen,\n",
        "                            classifier_model = simple_linear_model,\n",
        "                            tuning_method = \"linear_tune\",\n",
        "                            optimizer=\"ADAM\").to(device)\n",
        "my_model_1_faster = MyModel_without_per(language_model_frozen,\n",
        "                            classifier_model = simple_linear_model,\n",
        "                            tuning_method = \"linear_tune\",\n",
        "                            optimizer=\"ADAM\").to(device)"
      ],
      "metadata": {
        "id": "AZKxCohaDenG"
      },
      "execution_count": 25,
      "outputs": []
    },
    {
      "cell_type": "code",
      "source": [
        "my_model_1_faster.fit(train_data,\n",
        "                        validation_data,\n",
        "                        batch_size=BATCH_SIZE,\n",
        "                        n_epoch=EPOCHS)"
      ],
      "metadata": {
        "colab": {
          "base_uri": "https://localhost:8080/",
          "height": 613
        },
        "id": "4tnQTuslGoue",
        "outputId": "4b064c1f-07ad-4017-c2a0-b73040aac97d"
      },
      "execution_count": 26,
      "outputs": [
        {
          "output_type": "stream",
          "name": "stdout",
          "text": [
            "Epoch #1:\n"
          ]
        },
        {
          "output_type": "stream",
          "name": "stderr",
          "text": [
            "100%|██████████| 640/640 [05:25<00:00,  1.97it/s]\n"
          ]
        },
        {
          "output_type": "stream",
          "name": "stdout",
          "text": [
            "train_acc=24.40%, train_loss = 2.16\n",
            "val_acc=25.25%, val_loss = 2.16\n",
            "Epoch #2:\n"
          ]
        },
        {
          "output_type": "stream",
          "name": "stderr",
          "text": [
            "100%|██████████| 640/640 [05:22<00:00,  1.98it/s]\n"
          ]
        },
        {
          "output_type": "stream",
          "name": "stdout",
          "text": [
            "train_acc=28.10%, train_loss = 2.07\n",
            "val_acc=28.56%, val_loss = 2.07\n",
            "Epoch #3:\n"
          ]
        },
        {
          "output_type": "stream",
          "name": "stderr",
          "text": [
            "100%|██████████| 640/640 [05:22<00:00,  1.98it/s]\n"
          ]
        },
        {
          "output_type": "stream",
          "name": "stdout",
          "text": [
            "train_acc=29.57%, train_loss = 2.02\n",
            "val_acc=29.91%, val_loss = 2.01\n",
            "Epoch #4:\n"
          ]
        },
        {
          "output_type": "stream",
          "name": "stderr",
          "text": [
            " 11%|█         | 69/640 [00:35<04:50,  1.96it/s]\n"
          ]
        },
        {
          "output_type": "error",
          "ename": "KeyboardInterrupt",
          "evalue": "ignored",
          "traceback": [
            "\u001b[0;31m---------------------------------------------------------------------------\u001b[0m",
            "\u001b[0;31mKeyboardInterrupt\u001b[0m                         Traceback (most recent call last)",
            "\u001b[0;32m<ipython-input-26-674ce88f11be>\u001b[0m in \u001b[0;36m<module>\u001b[0;34m\u001b[0m\n\u001b[0;32m----> 1\u001b[0;31m my_model_1_faster.fit(train_data,\n\u001b[0m\u001b[1;32m      2\u001b[0m                         \u001b[0mvalidation_data\u001b[0m\u001b[0;34m,\u001b[0m\u001b[0;34m\u001b[0m\u001b[0;34m\u001b[0m\u001b[0m\n\u001b[1;32m      3\u001b[0m                         \u001b[0mbatch_size\u001b[0m\u001b[0;34m=\u001b[0m\u001b[0mBATCH_SIZE\u001b[0m\u001b[0;34m,\u001b[0m\u001b[0;34m\u001b[0m\u001b[0;34m\u001b[0m\u001b[0m\n\u001b[1;32m      4\u001b[0m                         n_epoch=EPOCHS)\n",
            "\u001b[0;32m<ipython-input-24-10faff4799c1>\u001b[0m in \u001b[0;36mfit\u001b[0;34m(self, train_data, val_data, batch_size, n_epoch)\u001b[0m\n\u001b[1;32m     99\u001b[0m                 \u001b[0mlabels\u001b[0m \u001b[0;34m=\u001b[0m \u001b[0mbatch\u001b[0m\u001b[0;34m[\u001b[0m\u001b[0;34m\"label\"\u001b[0m\u001b[0;34m]\u001b[0m\u001b[0;34m.\u001b[0m\u001b[0mflatten\u001b[0m\u001b[0;34m(\u001b[0m\u001b[0;34m)\u001b[0m\u001b[0;34m.\u001b[0m\u001b[0mto\u001b[0m\u001b[0;34m(\u001b[0m\u001b[0mdevice\u001b[0m\u001b[0;34m)\u001b[0m\u001b[0;34m\u001b[0m\u001b[0;34m\u001b[0m\u001b[0m\n\u001b[1;32m    100\u001b[0m \u001b[0;34m\u001b[0m\u001b[0m\n\u001b[0;32m--> 101\u001b[0;31m                 \u001b[0moutput\u001b[0m \u001b[0;34m=\u001b[0m \u001b[0mself\u001b[0m\u001b[0;34m.\u001b[0m\u001b[0mforward\u001b[0m\u001b[0;34m(\u001b[0m\u001b[0mids\u001b[0m\u001b[0;34m,\u001b[0m \u001b[0mtypes\u001b[0m\u001b[0;34m,\u001b[0m \u001b[0mmask\u001b[0m\u001b[0;34m)\u001b[0m\u001b[0;34m\u001b[0m\u001b[0;34m\u001b[0m\u001b[0m\n\u001b[0m\u001b[1;32m    102\u001b[0m                 \u001b[0mself\u001b[0m\u001b[0;34m.\u001b[0m\u001b[0moptimizer\u001b[0m\u001b[0;34m.\u001b[0m\u001b[0mzero_grad\u001b[0m\u001b[0;34m(\u001b[0m\u001b[0;34m)\u001b[0m\u001b[0;34m\u001b[0m\u001b[0;34m\u001b[0m\u001b[0m\n\u001b[1;32m    103\u001b[0m                 \u001b[0mloss\u001b[0m \u001b[0;34m=\u001b[0m \u001b[0mself\u001b[0m\u001b[0;34m.\u001b[0m\u001b[0mcriterion\u001b[0m\u001b[0;34m(\u001b[0m\u001b[0moutput\u001b[0m\u001b[0;34m,\u001b[0m \u001b[0mlabels\u001b[0m\u001b[0;34m)\u001b[0m\u001b[0;34m\u001b[0m\u001b[0;34m\u001b[0m\u001b[0m\n",
            "\u001b[0;32m<ipython-input-24-10faff4799c1>\u001b[0m in \u001b[0;36mforward\u001b[0;34m(self, ids, types, mask)\u001b[0m\n\u001b[1;32m     25\u001b[0m \u001b[0;34m\u001b[0m\u001b[0m\n\u001b[1;32m     26\u001b[0m     \u001b[0;32mdef\u001b[0m \u001b[0mforward\u001b[0m\u001b[0;34m(\u001b[0m\u001b[0mself\u001b[0m\u001b[0;34m,\u001b[0m \u001b[0mids\u001b[0m\u001b[0;34m,\u001b[0m \u001b[0mtypes\u001b[0m\u001b[0;34m,\u001b[0m \u001b[0mmask\u001b[0m\u001b[0;34m)\u001b[0m\u001b[0;34m:\u001b[0m\u001b[0;34m\u001b[0m\u001b[0;34m\u001b[0m\u001b[0m\n\u001b[0;32m---> 27\u001b[0;31m         lan_out = self.language_model(\n\u001b[0m\u001b[1;32m     28\u001b[0m             \u001b[0minput_ids\u001b[0m\u001b[0;34m=\u001b[0m\u001b[0mids\u001b[0m\u001b[0;34m,\u001b[0m\u001b[0;34m\u001b[0m\u001b[0;34m\u001b[0m\u001b[0m\n\u001b[1;32m     29\u001b[0m             \u001b[0mattention_mask\u001b[0m\u001b[0;34m=\u001b[0m\u001b[0mmask\u001b[0m\u001b[0;34m,\u001b[0m\u001b[0;34m\u001b[0m\u001b[0;34m\u001b[0m\u001b[0m\n",
            "\u001b[0;32m/usr/local/lib/python3.8/dist-packages/torch/nn/modules/module.py\u001b[0m in \u001b[0;36m_call_impl\u001b[0;34m(self, *input, **kwargs)\u001b[0m\n\u001b[1;32m   1192\u001b[0m         if not (self._backward_hooks or self._forward_hooks or self._forward_pre_hooks or _global_backward_hooks\n\u001b[1;32m   1193\u001b[0m                 or _global_forward_hooks or _global_forward_pre_hooks):\n\u001b[0;32m-> 1194\u001b[0;31m             \u001b[0;32mreturn\u001b[0m \u001b[0mforward_call\u001b[0m\u001b[0;34m(\u001b[0m\u001b[0;34m*\u001b[0m\u001b[0minput\u001b[0m\u001b[0;34m,\u001b[0m \u001b[0;34m**\u001b[0m\u001b[0mkwargs\u001b[0m\u001b[0;34m)\u001b[0m\u001b[0;34m\u001b[0m\u001b[0;34m\u001b[0m\u001b[0m\n\u001b[0m\u001b[1;32m   1195\u001b[0m         \u001b[0;31m# Do not call functions when jit is used\u001b[0m\u001b[0;34m\u001b[0m\u001b[0;34m\u001b[0m\u001b[0;34m\u001b[0m\u001b[0m\n\u001b[1;32m   1196\u001b[0m         \u001b[0mfull_backward_hooks\u001b[0m\u001b[0;34m,\u001b[0m \u001b[0mnon_full_backward_hooks\u001b[0m \u001b[0;34m=\u001b[0m \u001b[0;34m[\u001b[0m\u001b[0;34m]\u001b[0m\u001b[0;34m,\u001b[0m \u001b[0;34m[\u001b[0m\u001b[0;34m]\u001b[0m\u001b[0;34m\u001b[0m\u001b[0;34m\u001b[0m\u001b[0m\n",
            "\u001b[0;32m/usr/local/lib/python3.8/dist-packages/transformers/models/bert/modeling_bert.py\u001b[0m in \u001b[0;36mforward\u001b[0;34m(self, input_ids, attention_mask, token_type_ids, position_ids, head_mask, inputs_embeds, encoder_hidden_states, encoder_attention_mask, past_key_values, use_cache, output_attentions, output_hidden_states, return_dict)\u001b[0m\n\u001b[1;32m   1017\u001b[0m             \u001b[0mpast_key_values_length\u001b[0m\u001b[0;34m=\u001b[0m\u001b[0mpast_key_values_length\u001b[0m\u001b[0;34m,\u001b[0m\u001b[0;34m\u001b[0m\u001b[0;34m\u001b[0m\u001b[0m\n\u001b[1;32m   1018\u001b[0m         )\n\u001b[0;32m-> 1019\u001b[0;31m         encoder_outputs = self.encoder(\n\u001b[0m\u001b[1;32m   1020\u001b[0m             \u001b[0membedding_output\u001b[0m\u001b[0;34m,\u001b[0m\u001b[0;34m\u001b[0m\u001b[0;34m\u001b[0m\u001b[0m\n\u001b[1;32m   1021\u001b[0m             \u001b[0mattention_mask\u001b[0m\u001b[0;34m=\u001b[0m\u001b[0mextended_attention_mask\u001b[0m\u001b[0;34m,\u001b[0m\u001b[0;34m\u001b[0m\u001b[0;34m\u001b[0m\u001b[0m\n",
            "\u001b[0;32m/usr/local/lib/python3.8/dist-packages/torch/nn/modules/module.py\u001b[0m in \u001b[0;36m_call_impl\u001b[0;34m(self, *input, **kwargs)\u001b[0m\n\u001b[1;32m   1192\u001b[0m         if not (self._backward_hooks or self._forward_hooks or self._forward_pre_hooks or _global_backward_hooks\n\u001b[1;32m   1193\u001b[0m                 or _global_forward_hooks or _global_forward_pre_hooks):\n\u001b[0;32m-> 1194\u001b[0;31m             \u001b[0;32mreturn\u001b[0m \u001b[0mforward_call\u001b[0m\u001b[0;34m(\u001b[0m\u001b[0;34m*\u001b[0m\u001b[0minput\u001b[0m\u001b[0;34m,\u001b[0m \u001b[0;34m**\u001b[0m\u001b[0mkwargs\u001b[0m\u001b[0;34m)\u001b[0m\u001b[0;34m\u001b[0m\u001b[0;34m\u001b[0m\u001b[0m\n\u001b[0m\u001b[1;32m   1195\u001b[0m         \u001b[0;31m# Do not call functions when jit is used\u001b[0m\u001b[0;34m\u001b[0m\u001b[0;34m\u001b[0m\u001b[0;34m\u001b[0m\u001b[0m\n\u001b[1;32m   1196\u001b[0m         \u001b[0mfull_backward_hooks\u001b[0m\u001b[0;34m,\u001b[0m \u001b[0mnon_full_backward_hooks\u001b[0m \u001b[0;34m=\u001b[0m \u001b[0;34m[\u001b[0m\u001b[0;34m]\u001b[0m\u001b[0;34m,\u001b[0m \u001b[0;34m[\u001b[0m\u001b[0;34m]\u001b[0m\u001b[0;34m\u001b[0m\u001b[0;34m\u001b[0m\u001b[0m\n",
            "\u001b[0;32m/usr/local/lib/python3.8/dist-packages/transformers/models/bert/modeling_bert.py\u001b[0m in \u001b[0;36mforward\u001b[0;34m(self, hidden_states, attention_mask, head_mask, encoder_hidden_states, encoder_attention_mask, past_key_values, use_cache, output_attentions, output_hidden_states, return_dict)\u001b[0m\n\u001b[1;32m    607\u001b[0m                 )\n\u001b[1;32m    608\u001b[0m             \u001b[0;32melse\u001b[0m\u001b[0;34m:\u001b[0m\u001b[0;34m\u001b[0m\u001b[0;34m\u001b[0m\u001b[0m\n\u001b[0;32m--> 609\u001b[0;31m                 layer_outputs = layer_module(\n\u001b[0m\u001b[1;32m    610\u001b[0m                     \u001b[0mhidden_states\u001b[0m\u001b[0;34m,\u001b[0m\u001b[0;34m\u001b[0m\u001b[0;34m\u001b[0m\u001b[0m\n\u001b[1;32m    611\u001b[0m                     \u001b[0mattention_mask\u001b[0m\u001b[0;34m,\u001b[0m\u001b[0;34m\u001b[0m\u001b[0;34m\u001b[0m\u001b[0m\n",
            "\u001b[0;32m/usr/local/lib/python3.8/dist-packages/torch/nn/modules/module.py\u001b[0m in \u001b[0;36m_call_impl\u001b[0;34m(self, *input, **kwargs)\u001b[0m\n\u001b[1;32m   1192\u001b[0m         if not (self._backward_hooks or self._forward_hooks or self._forward_pre_hooks or _global_backward_hooks\n\u001b[1;32m   1193\u001b[0m                 or _global_forward_hooks or _global_forward_pre_hooks):\n\u001b[0;32m-> 1194\u001b[0;31m             \u001b[0;32mreturn\u001b[0m \u001b[0mforward_call\u001b[0m\u001b[0;34m(\u001b[0m\u001b[0;34m*\u001b[0m\u001b[0minput\u001b[0m\u001b[0;34m,\u001b[0m \u001b[0;34m**\u001b[0m\u001b[0mkwargs\u001b[0m\u001b[0;34m)\u001b[0m\u001b[0;34m\u001b[0m\u001b[0;34m\u001b[0m\u001b[0m\n\u001b[0m\u001b[1;32m   1195\u001b[0m         \u001b[0;31m# Do not call functions when jit is used\u001b[0m\u001b[0;34m\u001b[0m\u001b[0;34m\u001b[0m\u001b[0;34m\u001b[0m\u001b[0m\n\u001b[1;32m   1196\u001b[0m         \u001b[0mfull_backward_hooks\u001b[0m\u001b[0;34m,\u001b[0m \u001b[0mnon_full_backward_hooks\u001b[0m \u001b[0;34m=\u001b[0m \u001b[0;34m[\u001b[0m\u001b[0;34m]\u001b[0m\u001b[0;34m,\u001b[0m \u001b[0;34m[\u001b[0m\u001b[0;34m]\u001b[0m\u001b[0;34m\u001b[0m\u001b[0;34m\u001b[0m\u001b[0m\n",
            "\u001b[0;32m/usr/local/lib/python3.8/dist-packages/transformers/models/bert/modeling_bert.py\u001b[0m in \u001b[0;36mforward\u001b[0;34m(self, hidden_states, attention_mask, head_mask, encoder_hidden_states, encoder_attention_mask, past_key_value, output_attentions)\u001b[0m\n\u001b[1;32m    493\u001b[0m         \u001b[0;31m# decoder uni-directional self-attention cached key/values tuple is at positions 1,2\u001b[0m\u001b[0;34m\u001b[0m\u001b[0;34m\u001b[0m\u001b[0;34m\u001b[0m\u001b[0m\n\u001b[1;32m    494\u001b[0m         \u001b[0mself_attn_past_key_value\u001b[0m \u001b[0;34m=\u001b[0m \u001b[0mpast_key_value\u001b[0m\u001b[0;34m[\u001b[0m\u001b[0;34m:\u001b[0m\u001b[0;36m2\u001b[0m\u001b[0;34m]\u001b[0m \u001b[0;32mif\u001b[0m \u001b[0mpast_key_value\u001b[0m \u001b[0;32mis\u001b[0m \u001b[0;32mnot\u001b[0m \u001b[0;32mNone\u001b[0m \u001b[0;32melse\u001b[0m \u001b[0;32mNone\u001b[0m\u001b[0;34m\u001b[0m\u001b[0;34m\u001b[0m\u001b[0m\n\u001b[0;32m--> 495\u001b[0;31m         self_attention_outputs = self.attention(\n\u001b[0m\u001b[1;32m    496\u001b[0m             \u001b[0mhidden_states\u001b[0m\u001b[0;34m,\u001b[0m\u001b[0;34m\u001b[0m\u001b[0;34m\u001b[0m\u001b[0m\n\u001b[1;32m    497\u001b[0m             \u001b[0mattention_mask\u001b[0m\u001b[0;34m,\u001b[0m\u001b[0;34m\u001b[0m\u001b[0;34m\u001b[0m\u001b[0m\n",
            "\u001b[0;32m/usr/local/lib/python3.8/dist-packages/torch/nn/modules/module.py\u001b[0m in \u001b[0;36m_call_impl\u001b[0;34m(self, *input, **kwargs)\u001b[0m\n\u001b[1;32m   1192\u001b[0m         if not (self._backward_hooks or self._forward_hooks or self._forward_pre_hooks or _global_backward_hooks\n\u001b[1;32m   1193\u001b[0m                 or _global_forward_hooks or _global_forward_pre_hooks):\n\u001b[0;32m-> 1194\u001b[0;31m             \u001b[0;32mreturn\u001b[0m \u001b[0mforward_call\u001b[0m\u001b[0;34m(\u001b[0m\u001b[0;34m*\u001b[0m\u001b[0minput\u001b[0m\u001b[0;34m,\u001b[0m \u001b[0;34m**\u001b[0m\u001b[0mkwargs\u001b[0m\u001b[0;34m)\u001b[0m\u001b[0;34m\u001b[0m\u001b[0;34m\u001b[0m\u001b[0m\n\u001b[0m\u001b[1;32m   1195\u001b[0m         \u001b[0;31m# Do not call functions when jit is used\u001b[0m\u001b[0;34m\u001b[0m\u001b[0;34m\u001b[0m\u001b[0;34m\u001b[0m\u001b[0m\n\u001b[1;32m   1196\u001b[0m         \u001b[0mfull_backward_hooks\u001b[0m\u001b[0;34m,\u001b[0m \u001b[0mnon_full_backward_hooks\u001b[0m \u001b[0;34m=\u001b[0m \u001b[0;34m[\u001b[0m\u001b[0;34m]\u001b[0m\u001b[0;34m,\u001b[0m \u001b[0;34m[\u001b[0m\u001b[0;34m]\u001b[0m\u001b[0;34m\u001b[0m\u001b[0;34m\u001b[0m\u001b[0m\n",
            "\u001b[0;32m/usr/local/lib/python3.8/dist-packages/transformers/models/bert/modeling_bert.py\u001b[0m in \u001b[0;36mforward\u001b[0;34m(self, hidden_states, attention_mask, head_mask, encoder_hidden_states, encoder_attention_mask, past_key_value, output_attentions)\u001b[0m\n\u001b[1;32m    423\u001b[0m         \u001b[0moutput_attentions\u001b[0m\u001b[0;34m:\u001b[0m \u001b[0mOptional\u001b[0m\u001b[0;34m[\u001b[0m\u001b[0mbool\u001b[0m\u001b[0;34m]\u001b[0m \u001b[0;34m=\u001b[0m \u001b[0;32mFalse\u001b[0m\u001b[0;34m,\u001b[0m\u001b[0;34m\u001b[0m\u001b[0;34m\u001b[0m\u001b[0m\n\u001b[1;32m    424\u001b[0m     ) -> Tuple[torch.Tensor]:\n\u001b[0;32m--> 425\u001b[0;31m         self_outputs = self.self(\n\u001b[0m\u001b[1;32m    426\u001b[0m             \u001b[0mhidden_states\u001b[0m\u001b[0;34m,\u001b[0m\u001b[0;34m\u001b[0m\u001b[0;34m\u001b[0m\u001b[0m\n\u001b[1;32m    427\u001b[0m             \u001b[0mattention_mask\u001b[0m\u001b[0;34m,\u001b[0m\u001b[0;34m\u001b[0m\u001b[0;34m\u001b[0m\u001b[0m\n",
            "\u001b[0;32m/usr/local/lib/python3.8/dist-packages/torch/nn/modules/module.py\u001b[0m in \u001b[0;36m_call_impl\u001b[0;34m(self, *input, **kwargs)\u001b[0m\n\u001b[1;32m   1192\u001b[0m         if not (self._backward_hooks or self._forward_hooks or self._forward_pre_hooks or _global_backward_hooks\n\u001b[1;32m   1193\u001b[0m                 or _global_forward_hooks or _global_forward_pre_hooks):\n\u001b[0;32m-> 1194\u001b[0;31m             \u001b[0;32mreturn\u001b[0m \u001b[0mforward_call\u001b[0m\u001b[0;34m(\u001b[0m\u001b[0;34m*\u001b[0m\u001b[0minput\u001b[0m\u001b[0;34m,\u001b[0m \u001b[0;34m**\u001b[0m\u001b[0mkwargs\u001b[0m\u001b[0;34m)\u001b[0m\u001b[0;34m\u001b[0m\u001b[0;34m\u001b[0m\u001b[0m\n\u001b[0m\u001b[1;32m   1195\u001b[0m         \u001b[0;31m# Do not call functions when jit is used\u001b[0m\u001b[0;34m\u001b[0m\u001b[0;34m\u001b[0m\u001b[0;34m\u001b[0m\u001b[0m\n\u001b[1;32m   1196\u001b[0m         \u001b[0mfull_backward_hooks\u001b[0m\u001b[0;34m,\u001b[0m \u001b[0mnon_full_backward_hooks\u001b[0m \u001b[0;34m=\u001b[0m \u001b[0;34m[\u001b[0m\u001b[0;34m]\u001b[0m\u001b[0;34m,\u001b[0m \u001b[0;34m[\u001b[0m\u001b[0;34m]\u001b[0m\u001b[0;34m\u001b[0m\u001b[0;34m\u001b[0m\u001b[0m\n",
            "\u001b[0;32m/usr/local/lib/python3.8/dist-packages/transformers/models/bert/modeling_bert.py\u001b[0m in \u001b[0;36mforward\u001b[0;34m(self, hidden_states, attention_mask, head_mask, encoder_hidden_states, encoder_attention_mask, past_key_value, output_attentions)\u001b[0m\n\u001b[1;32m    345\u001b[0m                 \u001b[0mattention_scores\u001b[0m \u001b[0;34m=\u001b[0m \u001b[0mattention_scores\u001b[0m \u001b[0;34m+\u001b[0m \u001b[0mrelative_position_scores_query\u001b[0m \u001b[0;34m+\u001b[0m \u001b[0mrelative_position_scores_key\u001b[0m\u001b[0;34m\u001b[0m\u001b[0;34m\u001b[0m\u001b[0m\n\u001b[1;32m    346\u001b[0m \u001b[0;34m\u001b[0m\u001b[0m\n\u001b[0;32m--> 347\u001b[0;31m         \u001b[0mattention_scores\u001b[0m \u001b[0;34m=\u001b[0m \u001b[0mattention_scores\u001b[0m \u001b[0;34m/\u001b[0m \u001b[0mmath\u001b[0m\u001b[0;34m.\u001b[0m\u001b[0msqrt\u001b[0m\u001b[0;34m(\u001b[0m\u001b[0mself\u001b[0m\u001b[0;34m.\u001b[0m\u001b[0mattention_head_size\u001b[0m\u001b[0;34m)\u001b[0m\u001b[0;34m\u001b[0m\u001b[0;34m\u001b[0m\u001b[0m\n\u001b[0m\u001b[1;32m    348\u001b[0m         \u001b[0;32mif\u001b[0m \u001b[0mattention_mask\u001b[0m \u001b[0;32mis\u001b[0m \u001b[0;32mnot\u001b[0m \u001b[0;32mNone\u001b[0m\u001b[0;34m:\u001b[0m\u001b[0;34m\u001b[0m\u001b[0;34m\u001b[0m\u001b[0m\n\u001b[1;32m    349\u001b[0m             \u001b[0;31m# Apply the attention mask is (precomputed for all layers in BertModel forward() function)\u001b[0m\u001b[0;34m\u001b[0m\u001b[0;34m\u001b[0m\u001b[0;34m\u001b[0m\u001b[0m\n",
            "\u001b[0;31mKeyboardInterrupt\u001b[0m: "
          ]
        }
      ]
    },
    {
      "cell_type": "code",
      "source": [
        "my_model_1.fit(train_data,\n",
        "                        validation_data,\n",
        "                        batch_size=BATCH_SIZE,\n",
        "                        n_epoch=EPOCHS)"
      ],
      "metadata": {
        "colab": {
          "base_uri": "https://localhost:8080/"
        },
        "id": "wOuZgvgIDjeF",
        "outputId": "31a21cda-f115-4ab0-93f6-5ed180884b5b"
      },
      "execution_count": 20,
      "outputs": [
        {
          "output_type": "stream",
          "name": "stdout",
          "text": [
            "Epoch #1:\n"
          ]
        },
        {
          "output_type": "stream",
          "name": "stderr",
          "text": [
            "100%|██████████| 640/640 [05:30<00:00,  1.94it/s]\n"
          ]
        },
        {
          "output_type": "stream",
          "name": "stdout",
          "text": [
            "train_acc=31.53%, train_loss = 1.92\n",
            "val_acc=30.66%, val_loss = 1.94\n",
            "Perplexity=133.54\n",
            "Epoch #2:\n"
          ]
        },
        {
          "output_type": "stream",
          "name": "stderr",
          "text": [
            "100%|██████████| 640/640 [05:26<00:00,  1.96it/s]\n"
          ]
        },
        {
          "output_type": "stream",
          "name": "stdout",
          "text": [
            "train_acc=34.84%, train_loss = 1.84\n",
            "val_acc=33.35%, val_loss = 1.86\n",
            "Perplexity=138.72\n",
            "Epoch #3:\n"
          ]
        },
        {
          "output_type": "stream",
          "name": "stderr",
          "text": [
            "100%|██████████| 640/640 [05:23<00:00,  1.98it/s]\n"
          ]
        },
        {
          "output_type": "stream",
          "name": "stdout",
          "text": [
            "train_acc=37.49%, train_loss = 1.79\n",
            "val_acc=35.31%, val_loss = 1.82\n",
            "Perplexity=148.02\n",
            "Epoch #4:\n"
          ]
        },
        {
          "output_type": "stream",
          "name": "stderr",
          "text": [
            "100%|██████████| 640/640 [05:23<00:00,  1.98it/s]\n"
          ]
        },
        {
          "output_type": "stream",
          "name": "stdout",
          "text": [
            "train_acc=36.86%, train_loss = 1.77\n",
            "val_acc=35.03%, val_loss = 1.81\n",
            "Perplexity=134.62\n",
            "Epoch #5:\n"
          ]
        },
        {
          "output_type": "stream",
          "name": "stderr",
          "text": [
            "100%|██████████| 640/640 [05:24<00:00,  1.97it/s]\n"
          ]
        },
        {
          "output_type": "stream",
          "name": "stdout",
          "text": [
            "train_acc=38.80%, train_loss = 1.74\n",
            "val_acc=36.59%, val_loss = 1.78\n",
            "Perplexity=146.59\n"
          ]
        }
      ]
    },
    {
      "cell_type": "code",
      "source": [],
      "metadata": {
        "id": "XVOsms2JvMZf"
      },
      "execution_count": 23,
      "outputs": []
    },
    {
      "cell_type": "code",
      "source": [
        "def f1_calculator(cm):\n",
        "    TP = np.diag(cm)\n",
        "    all_true = np.sum(TP)\n",
        "    FP = np.sum(np.sum(cm, axis=0) - TP)\n",
        "    FN = np.sum(np.sum(cm, axis=1) - TP)\n",
        "    precision = all_true / (all_true + FP)\n",
        "    recall = all_true / (all_true + FN)\n",
        "    f1 = 2 * recall * precision / (recall + precision)\n",
        "    return f1"
      ],
      "metadata": {
        "id": "HNa54oXdDlDj"
      },
      "execution_count": 28,
      "outputs": []
    },
    {
      "cell_type": "code",
      "source": [
        "# if model is without peripex then delete the fourth output(_)\n",
        "# accuracy, loss, cm,_ = my_model_1.evaluate(test_data, BATCH_SIZE, \"test\")\n",
        "accuracy, loss, cm= my_model_1_faster.evaluate(test_data, BATCH_SIZE, \"test\")\n",
        "\n",
        "f1 = f1_calculator(cm)\n",
        "print(\"Part A Test Results:\")\n",
        "print(f\"Accuracy: {100 * accuracy:.2f}% , F1: {f1:.2f}, Loss: {loss:.2f}\")"
      ],
      "metadata": {
        "id": "swZ3zFW_EQ9M",
        "colab": {
          "base_uri": "https://localhost:8080/"
        },
        "outputId": "bdf5342a-7b07-4d6f-e787-30fff596f233"
      },
      "execution_count": 30,
      "outputs": [
        {
          "output_type": "stream",
          "name": "stdout",
          "text": [
            "Part A Test Results:\n",
            "Accuracy: 27.95% , F1: 0.28, Loss: 2.03\n"
          ]
        }
      ]
    },
    {
      "cell_type": "code",
      "source": [
        "def plot_conf_mat(cm):\n",
        "        fig = plt.figure(figsize=(10, 15))\n",
        "        df_cm = pd.DataFrame(cm, index = [i for i in choosen_poets],\n",
        "                      columns = [i for i in choosen_poets])\n",
        "        sns.heatmap(df_cm, annot=True)\n",
        "        plt.xlabel(\"Predicted Label\")\n",
        "        plt.ylabel(\"True Label\")\n",
        "        plt.show()\n",
        "        return \n",
        "plot_conf_mat(cm)"
      ],
      "metadata": {
        "id": "CxG8FWi3Gyiz",
        "colab": {
          "base_uri": "https://localhost:8080/",
          "height": 877
        },
        "outputId": "279022db-af32-4e1d-ba6d-a3dbdbc325bf"
      },
      "execution_count": 31,
      "outputs": [
        {
          "output_type": "display_data",
          "data": {
            "text/plain": [
              "<Figure size 720x1080 with 2 Axes>"
            ],
            "image/png": "[encoded data removed]"
          },
          "metadata": {
            "needs_background": "light"
          }
        }
      ]
    },
    {
      "cell_type": "code",
      "source": [
        "language_model_trainable = BertModel.from_pretrained(\"HooshvareLab/bert-fa-base-uncased\")\n",
        "for param in language_model_trainable.parameters():\n",
        "    param.requires_grad = True"
      ],
      "metadata": {
        "colab": {
          "base_uri": "https://localhost:8080/"
        },
        "id": "KBM6WOpZG2Im",
        "outputId": "15c6e607-61cc-49b6-e135-b5a5a618c18c"
      },
      "execution_count": 32,
      "outputs": [
        {
          "output_type": "stream",
          "name": "stderr",
          "text": [
            "Some weights of the model checkpoint at HooshvareLab/bert-fa-base-uncased were not used when initializing BertModel: ['cls.predictions.transform.LayerNorm.weight', 'cls.predictions.decoder.bias', 'cls.predictions.decoder.weight', 'cls.predictions.bias', 'cls.predictions.transform.dense.weight', 'cls.predictions.transform.LayerNorm.bias', 'cls.predictions.transform.dense.bias', 'cls.seq_relationship.bias', 'cls.seq_relationship.weight']\n",
            "- This IS expected if you are initializing BertModel from the checkpoint of a model trained on another task or with another architecture (e.g. initializing a BertForSequenceClassification model from a BertForPreTraining model).\n",
            "- This IS NOT expected if you are initializing BertModel from the checkpoint of a model that you expect to be exactly identical (initializing a BertForSequenceClassification model from a BertForSequenceClassification model).\n"
          ]
        }
      ]
    },
    {
      "cell_type": "markdown",
      "source": [
        "**Part B:**"
      ],
      "metadata": {
        "id": "WBewKw8sVYFy"
      }
    },
    {
      "cell_type": "code",
      "source": [
        "BATCH_SIZE = 32\n",
        "EPOCHS = 5\n",
        "optimizer_mode =\"ADAM\"\n",
        "simple_linear_model_fine_tune = nn.Sequential(*[\n",
        "                            nn.Flatten(),\n",
        "                            nn.Linear(last_layer_size, poets_len)\n",
        "                            ])\n",
        "my_model_fine_tune = MyModel_without_per(language_model_trainable,\n",
        "                                    classifier_model = simple_linear_model_fine_tune,\n",
        "                                    tuning_method =\"fine-tune\",\n",
        "                                    optimizer=optimizer_mode\n",
        "                                    ).to(device)"
      ],
      "metadata": {
        "id": "uJ8IlcJcJAxh"
      },
      "execution_count": 34,
      "outputs": []
    },
    {
      "cell_type": "code",
      "source": [
        "my_model_fine_tune.fit(train_data,\n",
        "                              validation_data,\n",
        "                              batch_size=BATCH_SIZE,\n",
        "                              n_epoch=EPOCHS)"
      ],
      "metadata": {
        "colab": {
          "base_uri": "https://localhost:8080/",
          "height": 460
        },
        "id": "zm13fnp-JDO5",
        "outputId": "9763ff29-7656-4532-b904-b1246e32b8d2"
      },
      "execution_count": 35,
      "outputs": [
        {
          "output_type": "stream",
          "name": "stdout",
          "text": [
            "Epoch #1:\n"
          ]
        },
        {
          "output_type": "stream",
          "name": "stderr",
          "text": [
            "100%|██████████| 1279/1279 [06:21<00:00,  3.36it/s]\n"
          ]
        },
        {
          "output_type": "stream",
          "name": "stdout",
          "text": [
            "train_acc=74.20%, train_loss = 0.76\n",
            "val_acc=63.08%, val_loss = 1.06\n",
            "Epoch #2:\n"
          ]
        },
        {
          "output_type": "stream",
          "name": "stderr",
          "text": [
            "  8%|▊         | 107/1279 [00:31<05:46,  3.38it/s]\n"
          ]
        },
        {
          "output_type": "error",
          "ename": "KeyboardInterrupt",
          "evalue": "ignored",
          "traceback": [
            "\u001b[0;31m---------------------------------------------------------------------------\u001b[0m",
            "\u001b[0;31mKeyboardInterrupt\u001b[0m                         Traceback (most recent call last)",
            "\u001b[0;32m<ipython-input-35-60947d66ed6e>\u001b[0m in \u001b[0;36m<module>\u001b[0;34m\u001b[0m\n\u001b[0;32m----> 1\u001b[0;31m my_model_fine_tune.fit(train_data,\n\u001b[0m\u001b[1;32m      2\u001b[0m                               \u001b[0mvalidation_data\u001b[0m\u001b[0;34m,\u001b[0m\u001b[0;34m\u001b[0m\u001b[0;34m\u001b[0m\u001b[0m\n\u001b[1;32m      3\u001b[0m                               \u001b[0mbatch_size\u001b[0m\u001b[0;34m=\u001b[0m\u001b[0mBATCH_SIZE\u001b[0m\u001b[0;34m,\u001b[0m\u001b[0;34m\u001b[0m\u001b[0;34m\u001b[0m\u001b[0m\n\u001b[1;32m      4\u001b[0m                               n_epoch=EPOCHS)\n",
            "\u001b[0;32m<ipython-input-24-10faff4799c1>\u001b[0m in \u001b[0;36mfit\u001b[0;34m(self, train_data, val_data, batch_size, n_epoch)\u001b[0m\n\u001b[1;32m    102\u001b[0m                 \u001b[0mself\u001b[0m\u001b[0;34m.\u001b[0m\u001b[0moptimizer\u001b[0m\u001b[0;34m.\u001b[0m\u001b[0mzero_grad\u001b[0m\u001b[0;34m(\u001b[0m\u001b[0;34m)\u001b[0m\u001b[0;34m\u001b[0m\u001b[0;34m\u001b[0m\u001b[0m\n\u001b[1;32m    103\u001b[0m                 \u001b[0mloss\u001b[0m \u001b[0;34m=\u001b[0m \u001b[0mself\u001b[0m\u001b[0;34m.\u001b[0m\u001b[0mcriterion\u001b[0m\u001b[0;34m(\u001b[0m\u001b[0moutput\u001b[0m\u001b[0;34m,\u001b[0m \u001b[0mlabels\u001b[0m\u001b[0;34m)\u001b[0m\u001b[0;34m\u001b[0m\u001b[0;34m\u001b[0m\u001b[0m\n\u001b[0;32m--> 104\u001b[0;31m                 \u001b[0mloss\u001b[0m\u001b[0;34m.\u001b[0m\u001b[0mbackward\u001b[0m\u001b[0;34m(\u001b[0m\u001b[0;34m)\u001b[0m\u001b[0;34m\u001b[0m\u001b[0;34m\u001b[0m\u001b[0m\n\u001b[0m\u001b[1;32m    105\u001b[0m                 \u001b[0mself\u001b[0m\u001b[0;34m.\u001b[0m\u001b[0moptimizer\u001b[0m\u001b[0;34m.\u001b[0m\u001b[0mstep\u001b[0m\u001b[0;34m(\u001b[0m\u001b[0;34m)\u001b[0m\u001b[0;34m\u001b[0m\u001b[0;34m\u001b[0m\u001b[0m\n\u001b[1;32m    106\u001b[0m                 \u001b[0;31m# loss_per_e += loss_\u001b[0m\u001b[0;34m\u001b[0m\u001b[0;34m\u001b[0m\u001b[0;34m\u001b[0m\u001b[0m\n",
            "\u001b[0;32m/usr/local/lib/python3.8/dist-packages/torch/_tensor.py\u001b[0m in \u001b[0;36mbackward\u001b[0;34m(self, gradient, retain_graph, create_graph, inputs)\u001b[0m\n\u001b[1;32m    486\u001b[0m                 \u001b[0minputs\u001b[0m\u001b[0;34m=\u001b[0m\u001b[0minputs\u001b[0m\u001b[0;34m,\u001b[0m\u001b[0;34m\u001b[0m\u001b[0;34m\u001b[0m\u001b[0m\n\u001b[1;32m    487\u001b[0m             )\n\u001b[0;32m--> 488\u001b[0;31m         torch.autograd.backward(\n\u001b[0m\u001b[1;32m    489\u001b[0m             \u001b[0mself\u001b[0m\u001b[0;34m,\u001b[0m \u001b[0mgradient\u001b[0m\u001b[0;34m,\u001b[0m \u001b[0mretain_graph\u001b[0m\u001b[0;34m,\u001b[0m \u001b[0mcreate_graph\u001b[0m\u001b[0;34m,\u001b[0m \u001b[0minputs\u001b[0m\u001b[0;34m=\u001b[0m\u001b[0minputs\u001b[0m\u001b[0;34m\u001b[0m\u001b[0;34m\u001b[0m\u001b[0m\n\u001b[1;32m    490\u001b[0m         )\n",
            "\u001b[0;32m/usr/local/lib/python3.8/dist-packages/torch/autograd/__init__.py\u001b[0m in \u001b[0;36mbackward\u001b[0;34m(tensors, grad_tensors, retain_graph, create_graph, grad_variables, inputs)\u001b[0m\n\u001b[1;32m    195\u001b[0m     \u001b[0;31m# some Python versions print out the first line of a multi-line function\u001b[0m\u001b[0;34m\u001b[0m\u001b[0;34m\u001b[0m\u001b[0;34m\u001b[0m\u001b[0m\n\u001b[1;32m    196\u001b[0m     \u001b[0;31m# calls in the traceback and some print out the last line\u001b[0m\u001b[0;34m\u001b[0m\u001b[0;34m\u001b[0m\u001b[0;34m\u001b[0m\u001b[0m\n\u001b[0;32m--> 197\u001b[0;31m     Variable._execution_engine.run_backward(  # Calls into the C++ engine to run the backward pass\n\u001b[0m\u001b[1;32m    198\u001b[0m         \u001b[0mtensors\u001b[0m\u001b[0;34m,\u001b[0m \u001b[0mgrad_tensors_\u001b[0m\u001b[0;34m,\u001b[0m \u001b[0mretain_graph\u001b[0m\u001b[0;34m,\u001b[0m \u001b[0mcreate_graph\u001b[0m\u001b[0;34m,\u001b[0m \u001b[0minputs\u001b[0m\u001b[0;34m,\u001b[0m\u001b[0;34m\u001b[0m\u001b[0;34m\u001b[0m\u001b[0m\n\u001b[1;32m    199\u001b[0m         allow_unreachable=True, accumulate_grad=True)  # Calls into the C++ engine to run the backward pass\n",
            "\u001b[0;31mKeyboardInterrupt\u001b[0m: "
          ]
        }
      ]
    },
    {
      "cell_type": "code",
      "source": [
        "# accuracy, loss, cm,_ = my_model_fine_tune.evaluate(test_data, BATCH_SIZE, \"test\")\n",
        "accuracy, loss, cm = my_model_fine_tune.evaluate(test_data, BATCH_SIZE, \"test\")\n",
        "f1 = f1_calculator(cm)\n",
        "print(\"Part B Test Results\"+\" \"+ optimizer_mode+ \":\")\n",
        "print(f\"Accuracy: {100 * accuracy:.2f}% , F1: {f1:.2f}, Loss: {loss:.2f}\")"
      ],
      "metadata": {
        "id": "K-7Am8mBJFea",
        "colab": {
          "base_uri": "https://localhost:8080/"
        },
        "outputId": "922d6f71-27df-4c18-db36-5d9a2ad51c3b"
      },
      "execution_count": 36,
      "outputs": [
        {
          "output_type": "stream",
          "name": "stdout",
          "text": [
            "Part B Test Results ADAM:\n",
            "Accuracy: 63.42% , F1: 0.63, Loss: 1.15\n"
          ]
        }
      ]
    },
    {
      "cell_type": "code",
      "source": [
        "plot_conf_mat(cm)"
      ],
      "metadata": {
        "id": "UdcJLkROJMfF",
        "colab": {
          "base_uri": "https://localhost:8080/",
          "height": 877
        },
        "outputId": "3ac260d1-78ed-4499-d8d7-a9d07a613415"
      },
      "execution_count": 37,
      "outputs": [
        {
          "output_type": "display_data",
          "data": {
            "text/plain": [
              "<Figure size 720x1080 with 2 Axes>"
            ],
            "image/png": "[encoded data removed]"
          },
          "metadata": {
            "needs_background": "light"
          }
        }
      ]
    },
    {
      "cell_type": "code",
      "source": [],
      "metadata": {
        "id": "IuAHJpOcJOJc"
      },
      "execution_count": 37,
      "outputs": []
    },
    {
      "cell_type": "markdown",
      "source": [
        "**Important Note:**\n",
        "\n",
        "If you want to change the optimizer just change the optimizer option in the model!\n",
        "\n",
        "If you want to see the perplexity change the model with the per. In this regard, you need to increase the output of the evaluation because it need 4 argument."
      ],
      "metadata": {
        "id": "QpfTEYAeRfor"
      }
    },
    {
      "cell_type": "markdown",
      "source": [
        "**Example:**"
      ],
      "metadata": {
        "id": "9_4xt2AcS9kx"
      }
    },
    {
      "cell_type": "code",
      "source": [
        "BATCH_SIZE = 32\n",
        "EPOCHS = 5\n",
        "optimizer_mode =\"SGD\"\n",
        "simple_linear_model_fine_tune = nn.Sequential(*[\n",
        "                            nn.Flatten(),\n",
        "                            nn.Linear(last_layer_size, poets_len)\n",
        "                            ])\n",
        "my_model_fine_tune = MyModel_without_per(language_model_trainable,\n",
        "                                    classifier_model = simple_linear_model_fine_tune,\n",
        "                                    tuning_method =\"fine-tune\",\n",
        "                                    optimizer=optimizer_mode\n",
        "                                    ).to(device)"
      ],
      "metadata": {
        "id": "zwuasOQVJUe2"
      },
      "execution_count": 38,
      "outputs": []
    },
    {
      "cell_type": "code",
      "source": [
        "my_model_fine_tune.fit(train_data,\n",
        "                              validation_data,\n",
        "                              batch_size=BATCH_SIZE,\n",
        "                              n_epoch=EPOCHS)"
      ],
      "metadata": {
        "colab": {
          "base_uri": "https://localhost:8080/",
          "height": 436
        },
        "id": "bMiOOKwtTCod",
        "outputId": "ee118821-d2e3-429c-8b86-101cbabd8d9c"
      },
      "execution_count": 39,
      "outputs": [
        {
          "output_type": "stream",
          "name": "stdout",
          "text": [
            "Epoch #1:\n"
          ]
        },
        {
          "output_type": "stream",
          "name": "stderr",
          "text": [
            "100%|██████████| 1279/1279 [05:23<00:00,  3.95it/s]\n"
          ]
        },
        {
          "output_type": "stream",
          "name": "stdout",
          "text": [
            "train_acc=75.80%, train_loss = 1.13\n",
            "val_acc=63.90%, val_loss = 1.32\n",
            "Epoch #2:\n"
          ]
        },
        {
          "output_type": "stream",
          "name": "stderr",
          "text": [
            "  6%|▌         | 75/1279 [00:19<05:06,  3.93it/s]\n"
          ]
        },
        {
          "output_type": "error",
          "ename": "KeyboardInterrupt",
          "evalue": "ignored",
          "traceback": [
            "\u001b[0;31m---------------------------------------------------------------------------\u001b[0m",
            "\u001b[0;31mKeyboardInterrupt\u001b[0m                         Traceback (most recent call last)",
            "\u001b[0;32m<ipython-input-39-60947d66ed6e>\u001b[0m in \u001b[0;36m<module>\u001b[0;34m\u001b[0m\n\u001b[0;32m----> 1\u001b[0;31m my_model_fine_tune.fit(train_data,\n\u001b[0m\u001b[1;32m      2\u001b[0m                               \u001b[0mvalidation_data\u001b[0m\u001b[0;34m,\u001b[0m\u001b[0;34m\u001b[0m\u001b[0;34m\u001b[0m\u001b[0m\n\u001b[1;32m      3\u001b[0m                               \u001b[0mbatch_size\u001b[0m\u001b[0;34m=\u001b[0m\u001b[0mBATCH_SIZE\u001b[0m\u001b[0;34m,\u001b[0m\u001b[0;34m\u001b[0m\u001b[0;34m\u001b[0m\u001b[0m\n\u001b[1;32m      4\u001b[0m                               n_epoch=EPOCHS)\n",
            "\u001b[0;32m<ipython-input-24-10faff4799c1>\u001b[0m in \u001b[0;36mfit\u001b[0;34m(self, train_data, val_data, batch_size, n_epoch)\u001b[0m\n\u001b[1;32m     94\u001b[0m             \u001b[0mloss_per_e\u001b[0m \u001b[0;34m=\u001b[0m \u001b[0;36m0\u001b[0m\u001b[0;34m\u001b[0m\u001b[0;34m\u001b[0m\u001b[0m\n\u001b[1;32m     95\u001b[0m             \u001b[0;32mfor\u001b[0m \u001b[0mbatch\u001b[0m \u001b[0;32min\u001b[0m \u001b[0mtqdm\u001b[0m\u001b[0;34m(\u001b[0m\u001b[0mtrain_loader\u001b[0m\u001b[0;34m)\u001b[0m\u001b[0;34m:\u001b[0m\u001b[0;34m\u001b[0m\u001b[0;34m\u001b[0m\u001b[0m\n\u001b[0;32m---> 96\u001b[0;31m                 \u001b[0mids\u001b[0m \u001b[0;34m=\u001b[0m \u001b[0mbatch\u001b[0m\u001b[0;34m[\u001b[0m\u001b[0;34m\"input_ids\"\u001b[0m\u001b[0;34m]\u001b[0m\u001b[0;34m.\u001b[0m\u001b[0mto\u001b[0m\u001b[0;34m(\u001b[0m\u001b[0mdevice\u001b[0m\u001b[0;34m)\u001b[0m\u001b[0;34m\u001b[0m\u001b[0;34m\u001b[0m\u001b[0m\n\u001b[0m\u001b[1;32m     97\u001b[0m                 \u001b[0mtypes\u001b[0m \u001b[0;34m=\u001b[0m \u001b[0mbatch\u001b[0m\u001b[0;34m[\u001b[0m\u001b[0;34m\"token_type_ids\"\u001b[0m\u001b[0;34m]\u001b[0m\u001b[0;34m.\u001b[0m\u001b[0mto\u001b[0m\u001b[0;34m(\u001b[0m\u001b[0mdevice\u001b[0m\u001b[0;34m)\u001b[0m\u001b[0;34m\u001b[0m\u001b[0;34m\u001b[0m\u001b[0m\n\u001b[1;32m     98\u001b[0m                 \u001b[0mmask\u001b[0m \u001b[0;34m=\u001b[0m \u001b[0mbatch\u001b[0m\u001b[0;34m[\u001b[0m\u001b[0;34m\"attention_mask\"\u001b[0m\u001b[0;34m]\u001b[0m\u001b[0;34m.\u001b[0m\u001b[0mto\u001b[0m\u001b[0;34m(\u001b[0m\u001b[0mdevice\u001b[0m\u001b[0;34m)\u001b[0m\u001b[0;34m\u001b[0m\u001b[0;34m\u001b[0m\u001b[0m\n",
            "\u001b[0;31mKeyboardInterrupt\u001b[0m: "
          ]
        }
      ]
    },
    {
      "cell_type": "code",
      "source": [],
      "metadata": {
        "id": "vFDaQzy_TFlH"
      },
      "execution_count": null,
      "outputs": []
    }
  ]
}